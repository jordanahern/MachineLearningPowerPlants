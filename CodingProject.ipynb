{
 "cells": [
  {
   "cell_type": "code",
   "execution_count": 1,
   "id": "9147df84-d19f-47fb-b8f6-3e08e78726a7",
   "metadata": {},
   "outputs": [],
   "source": [
    "# Project data is downloaded from S&P Capital IQ Pro power generation asset screener\n",
    "# All generation resources are included in the download, with reporting metrics as of 2019 to avoid implications of COVID 19 \n",
    "# The goal of our project is to estimate emissions data using variables such as year of contruction, fuel and technology type, heat rate, and reglatory status. "
   ]
  },
  {
   "cell_type": "code",
   "execution_count": 2,
   "id": "a314f6b3-0fb7-4d00-9fae-28535d32ed2f",
   "metadata": {},
   "outputs": [],
   "source": [
    "#-------------------------------------\n",
    "#Profiling and getting the data ready\n",
    "#-------------------------------------"
   ]
  },
  {
   "cell_type": "code",
   "execution_count": 3,
   "id": "f53f3bc4-0d5d-47d2-84fd-6e2140fb6990",
   "metadata": {},
   "outputs": [],
   "source": [
    "get_ipython().ast_node_interactivity = 'all'"
   ]
  },
  {
   "cell_type": "code",
   "execution_count": 4,
   "id": "dd53136d-f0e6-4fc5-801a-889077ec227f",
   "metadata": {
    "tags": []
   },
   "outputs": [
    {
     "data": {
      "text/html": [
       "<pre style=\"white-space:pre;overflow-x:auto;line-height:normal;font-family:Menlo,'DejaVu Sans Mono',consolas,'Courier New',monospace\"><span style=\"color: #008080; text-decoration-color: #008080; font-weight: bold\">15</span> column names have been cleaned\n",
       "</pre>\n"
      ],
      "text/plain": [
       "\u001b[1;36m15\u001b[0m column names have been cleaned\n"
      ]
     },
     "metadata": {},
     "output_type": "display_data"
    },
    {
     "data": {
      "text/plain": [
       "power_plant                      object\n",
       "plant_key                         int64\n",
       "operating_status                 object\n",
       "regulatory_status                object\n",
       "installed_nameplate_capacity    float64\n",
       "net_generation                  float64\n",
       "heat_rate                       float64\n",
       "capacity_factor                 float64\n",
       "fuel_type                        object\n",
       "technology_type                  object\n",
       "year_first_unit_in_service      float64\n",
       "avg_employees_x_000_d_actual    float64\n",
       "CO2_rate                        float64\n",
       "NOX_rate                        float64\n",
       "SO2_rate                        float64\n",
       "dtype: object"
      ]
     },
     "execution_count": 4,
     "metadata": {},
     "output_type": "execute_result"
    }
   ],
   "source": [
    "\n",
    "import pandas\n",
    "from skimpy import clean_columns\n",
    "# this is used to clean the messy column names\n",
    "df = pandas.read_excel( \"UpdatedProjectData.xlsx\" )\n",
    "df = clean_columns(df)\n",
    "#import and clean data\n",
    "#df.columns.tolist()\n",
    "df = df[pandas.to_numeric(df['heat_rate'], errors='coerce').notnull()]\n",
    "# heat rate is imorted as an object due to missing values \"NM\". This ereases those values as a missing heat rate means the asset isnt generating\n",
    "df['heat_rate'] = df['heat_rate'].astype(float)\n",
    "# Changes object to float\n",
    "df['CO2_rate'] = df['co_2_emissions_rate_x_000_d_lb_mm_btu']\n",
    "df['NOX_rate'] = df['nox_emissions_rate_x_000_d_lb_mm_btu']\n",
    "df['SO2_rate'] = df['so_2_emissions_rate_x_000_d_lb_mm_btu']\n",
    "# Cleaning these columns didnt quite get them easy to work with, so renamed manually\n",
    "del df['co_2_emissions_rate_x_000_d_lb_mm_btu']\n",
    "del df['nox_emissions_rate_x_000_d_lb_mm_btu']\n",
    "del df['so_2_emissions_rate_x_000_d_lb_mm_btu']\n",
    "df.dtypes\n",
    "# check the rest of the column names and types"
   ]
  },
  {
   "cell_type": "code",
   "execution_count": 5,
   "id": "7932cfc3-c6ea-4ae1-b100-c1654876e19f",
   "metadata": {},
   "outputs": [],
   "source": [
    "df = df.query( \"(CO2_rate >0 ) & (NOX_rate > 0 ) & (SO2_rate > 0) & (heat_rate > 0) \" )\n",
    "# This removes all non-emtting resources such as solar and wind. These are not relevent for this project. "
   ]
  },
  {
   "cell_type": "code",
   "execution_count": 6,
   "id": "277ad664-8e83-4c5b-9460-2e4135096700",
   "metadata": {},
   "outputs": [
    {
     "data": {
      "text/html": [
       "<div>\n",
       "<style scoped>\n",
       "    .dataframe tbody tr th:only-of-type {\n",
       "        vertical-align: middle;\n",
       "    }\n",
       "\n",
       "    .dataframe tbody tr th {\n",
       "        vertical-align: top;\n",
       "    }\n",
       "\n",
       "    .dataframe thead th {\n",
       "        text-align: right;\n",
       "    }\n",
       "</style>\n",
       "<table border=\"1\" class=\"dataframe\">\n",
       "  <thead>\n",
       "    <tr style=\"text-align: right;\">\n",
       "      <th></th>\n",
       "      <th>plant_key</th>\n",
       "      <th>installed_nameplate_capacity</th>\n",
       "      <th>net_generation</th>\n",
       "      <th>heat_rate</th>\n",
       "      <th>capacity_factor</th>\n",
       "      <th>year_first_unit_in_service</th>\n",
       "      <th>avg_employees_x_000_d_actual</th>\n",
       "      <th>CO2_rate</th>\n",
       "      <th>NOX_rate</th>\n",
       "      <th>SO2_rate</th>\n",
       "    </tr>\n",
       "  </thead>\n",
       "  <tbody>\n",
       "    <tr>\n",
       "      <th>count</th>\n",
       "      <td>1292.000000</td>\n",
       "      <td>1292.000000</td>\n",
       "      <td>1.292000e+03</td>\n",
       "      <td>1292.000000</td>\n",
       "      <td>1292.000000</td>\n",
       "      <td>1292.000000</td>\n",
       "      <td>444.000000</td>\n",
       "      <td>1292.000000</td>\n",
       "      <td>1292.000000</td>\n",
       "      <td>1292.000000</td>\n",
       "    </tr>\n",
       "    <tr>\n",
       "      <th>mean</th>\n",
       "      <td>4870.126161</td>\n",
       "      <td>591.704954</td>\n",
       "      <td>1.881567e+06</td>\n",
       "      <td>10960.984520</td>\n",
       "      <td>29.699613</td>\n",
       "      <td>1990.285604</td>\n",
       "      <td>55.047297</td>\n",
       "      <td>138.383783</td>\n",
       "      <td>0.086496</td>\n",
       "      <td>0.048543</td>\n",
       "    </tr>\n",
       "    <tr>\n",
       "      <th>std</th>\n",
       "      <td>4585.385712</td>\n",
       "      <td>566.259907</td>\n",
       "      <td>2.740321e+06</td>\n",
       "      <td>3951.197489</td>\n",
       "      <td>26.866818</td>\n",
       "      <td>19.178755</td>\n",
       "      <td>76.729862</td>\n",
       "      <td>36.731876</td>\n",
       "      <td>0.113436</td>\n",
       "      <td>0.143209</td>\n",
       "    </tr>\n",
       "    <tr>\n",
       "      <th>min</th>\n",
       "      <td>1.000000</td>\n",
       "      <td>25.000000</td>\n",
       "      <td>4.000000e+00</td>\n",
       "      <td>4661.000000</td>\n",
       "      <td>0.000439</td>\n",
       "      <td>1925.000000</td>\n",
       "      <td>0.000000</td>\n",
       "      <td>27.063900</td>\n",
       "      <td>0.002400</td>\n",
       "      <td>0.000100</td>\n",
       "    </tr>\n",
       "    <tr>\n",
       "      <th>25%</th>\n",
       "      <td>1295.000000</td>\n",
       "      <td>154.200000</td>\n",
       "      <td>8.036450e+04</td>\n",
       "      <td>8247.750000</td>\n",
       "      <td>4.498013</td>\n",
       "      <td>1974.000000</td>\n",
       "      <td>3.000000</td>\n",
       "      <td>118.857100</td>\n",
       "      <td>0.014875</td>\n",
       "      <td>0.000600</td>\n",
       "    </tr>\n",
       "    <tr>\n",
       "      <th>50%</th>\n",
       "      <td>3848.500000</td>\n",
       "      <td>438.500000</td>\n",
       "      <td>5.652750e+05</td>\n",
       "      <td>10707.500000</td>\n",
       "      <td>20.758220</td>\n",
       "      <td>1999.000000</td>\n",
       "      <td>29.000000</td>\n",
       "      <td>118.859850</td>\n",
       "      <td>0.045500</td>\n",
       "      <td>0.000600</td>\n",
       "    </tr>\n",
       "    <tr>\n",
       "      <th>75%</th>\n",
       "      <td>6838.250000</td>\n",
       "      <td>807.425000</td>\n",
       "      <td>2.828087e+06</td>\n",
       "      <td>12115.250000</td>\n",
       "      <td>53.687854</td>\n",
       "      <td>2003.000000</td>\n",
       "      <td>67.000000</td>\n",
       "      <td>124.043875</td>\n",
       "      <td>0.115250</td>\n",
       "      <td>0.005375</td>\n",
       "    </tr>\n",
       "    <tr>\n",
       "      <th>max</th>\n",
       "      <td>25015.000000</td>\n",
       "      <td>4263.000000</td>\n",
       "      <td>2.148600e+07</td>\n",
       "      <td>48180.000000</td>\n",
       "      <td>97.097847</td>\n",
       "      <td>2019.000000</td>\n",
       "      <td>425.000000</td>\n",
       "      <td>245.746500</td>\n",
       "      <td>1.200100</td>\n",
       "      <td>2.651100</td>\n",
       "    </tr>\n",
       "  </tbody>\n",
       "</table>\n",
       "</div>"
      ],
      "text/plain": [
       "          plant_key  installed_nameplate_capacity  net_generation  \\\n",
       "count   1292.000000                   1292.000000    1.292000e+03   \n",
       "mean    4870.126161                    591.704954    1.881567e+06   \n",
       "std     4585.385712                    566.259907    2.740321e+06   \n",
       "min        1.000000                     25.000000    4.000000e+00   \n",
       "25%     1295.000000                    154.200000    8.036450e+04   \n",
       "50%     3848.500000                    438.500000    5.652750e+05   \n",
       "75%     6838.250000                    807.425000    2.828087e+06   \n",
       "max    25015.000000                   4263.000000    2.148600e+07   \n",
       "\n",
       "          heat_rate  capacity_factor  year_first_unit_in_service  \\\n",
       "count   1292.000000      1292.000000                 1292.000000   \n",
       "mean   10960.984520        29.699613                 1990.285604   \n",
       "std     3951.197489        26.866818                   19.178755   \n",
       "min     4661.000000         0.000439                 1925.000000   \n",
       "25%     8247.750000         4.498013                 1974.000000   \n",
       "50%    10707.500000        20.758220                 1999.000000   \n",
       "75%    12115.250000        53.687854                 2003.000000   \n",
       "max    48180.000000        97.097847                 2019.000000   \n",
       "\n",
       "       avg_employees_x_000_d_actual     CO2_rate     NOX_rate     SO2_rate  \n",
       "count                    444.000000  1292.000000  1292.000000  1292.000000  \n",
       "mean                      55.047297   138.383783     0.086496     0.048543  \n",
       "std                       76.729862    36.731876     0.113436     0.143209  \n",
       "min                        0.000000    27.063900     0.002400     0.000100  \n",
       "25%                        3.000000   118.857100     0.014875     0.000600  \n",
       "50%                       29.000000   118.859850     0.045500     0.000600  \n",
       "75%                       67.000000   124.043875     0.115250     0.005375  \n",
       "max                      425.000000   245.746500     1.200100     2.651100  "
      ]
     },
     "execution_count": 6,
     "metadata": {},
     "output_type": "execute_result"
    }
   ],
   "source": [
    "df.describe()\n",
    "#Most columns have far outliers to be aware of. Most assets do not have data on employee count. "
   ]
  },
  {
   "cell_type": "code",
   "execution_count": 7,
   "id": "5bba41f4-bfc9-4a48-a9a1-3589c6b09d71",
   "metadata": {
    "tags": []
   },
   "outputs": [
    {
     "data": {
      "image/png": "[encoded data removed]",
      "text/plain": [
       "<Figure size 640x480 with 1 Axes>"
      ]
     },
     "metadata": {},
     "output_type": "display_data"
    }
   ],
   "source": [
    "heat_rate_hist=df.query(\"(heat_rate < 20000 )\")[ 'heat_rate' ].plot.hist()\n",
    "CO2_hist=df[ 'CO2_rate' ].plot.hist()\n",
    "NOX_hist=df.query(\"( NOX_rate < .5 )\")['NOX_rate'].plot.hist()\n",
    "SO2_hist=df.query(\"( SO2_rate < .0013 )\")['SO2_rate'].plot.hist(bins = 25)\n",
    "# visuaization of heat rates. 20,000 marked as upper bound as >75% of data falls below  12,115\n",
    "# The heat rate is the amount of energy (Btu) used by an electrical generator/power plant to generate one kilowatthour (kWh) of electricity."
   ]
  },
  {
   "cell_type": "code",
   "execution_count": 8,
   "id": "e8e8e7c8-1a6e-4753-bc3d-b0b185aba2cf",
   "metadata": {},
   "outputs": [
    {
     "data": {
      "text/plain": [
       "power_plant                       0\n",
       "plant_key                         0\n",
       "operating_status                  0\n",
       "regulatory_status                 0\n",
       "installed_nameplate_capacity      0\n",
       "net_generation                    0\n",
       "heat_rate                         0\n",
       "capacity_factor                   0\n",
       "fuel_type                         0\n",
       "technology_type                   0\n",
       "year_first_unit_in_service        0\n",
       "avg_employees_x_000_d_actual    848\n",
       "CO2_rate                          0\n",
       "NOX_rate                          0\n",
       "SO2_rate                          0\n",
       "dtype: int64"
      ]
     },
     "execution_count": 8,
     "metadata": {},
     "output_type": "execute_result"
    }
   ],
   "source": [
    "df.isna().sum()\n",
    "# most plants missing employee counts"
   ]
  },
  {
   "cell_type": "code",
   "execution_count": 9,
   "id": "6214370f-74d9-40c5-9922-8e1a73d525c9",
   "metadata": {},
   "outputs": [
    {
     "data": {
      "text/plain": [
       "Combined Cycle             448\n",
       "Gas Turbine                437\n",
       "Steam Turbine              405\n",
       "Integrated Gasification      2\n",
       "Name: technology_type, dtype: int64"
      ]
     },
     "execution_count": 9,
     "metadata": {},
     "output_type": "execute_result"
    }
   ],
   "source": [
    "df.technology_type.value_counts()"
   ]
  },
  {
   "cell_type": "code",
   "execution_count": 10,
   "id": "bb5cd0c1-91d8-4b6c-8e90-9289427e1a43",
   "metadata": {},
   "outputs": [
    {
     "data": {
      "text/plain": [
       "Gas                   997\n",
       "Coal                  251\n",
       "Oil                    29\n",
       "Biomass                13\n",
       "Other Nonrenewable      2\n",
       "Name: fuel_type, dtype: int64"
      ]
     },
     "execution_count": 10,
     "metadata": {},
     "output_type": "execute_result"
    }
   ],
   "source": [
    "df.fuel_type.value_counts()"
   ]
  },
  {
   "cell_type": "code",
   "execution_count": 11,
   "id": "cc361088-998f-41df-ab51-51f0b0733ed5",
   "metadata": {},
   "outputs": [
    {
     "data": {
      "text/plain": [
       "Operating              1204\n",
       "Retired                  72\n",
       "Operating & Planned      12\n",
       "Out of Service            2\n",
       "Mothballed                2\n",
       "Name: operating_status, dtype: int64"
      ]
     },
     "execution_count": 11,
     "metadata": {},
     "output_type": "execute_result"
    }
   ],
   "source": [
    "df.operating_status.value_counts()"
   ]
  },
  {
   "cell_type": "code",
   "execution_count": 12,
   "id": "9c86447f-faec-4d11-93d1-9d3a3763f787",
   "metadata": {},
   "outputs": [
    {
     "data": {
      "text/plain": [
       "Merchant Unregulated    694\n",
       "Regulated               598\n",
       "Name: regulatory_status, dtype: int64"
      ]
     },
     "execution_count": 12,
     "metadata": {},
     "output_type": "execute_result"
    }
   ],
   "source": [
    "df.regulatory_status.value_counts()\n",
    "# Status of a plant with regard to its owner's rate base being regulated by the state Public Utility Commission\n",
    "# or municipal rate-setting authority. If any owned portion of a plant is regulated, the entire plant and its units are marked regulated."
   ]
  },
  {
   "cell_type": "code",
   "execution_count": 13,
   "id": "b1c81b88-ffad-4a41-96cf-663ecaf80b0b",
   "metadata": {},
   "outputs": [],
   "source": [
    "import numpy\n",
    "df['CO2_rating'] = numpy.where(df['CO2_rate']>df[\"CO2_rate\"].median(), \"High\", \"Low\")\n",
    "df['SO2_rating'] = numpy.where(df['CO2_rate']>df[\"SO2_rate\"].median(), \"High\", \"Low\")\n",
    "df['NOX_rating'] = numpy.where(df['CO2_rate']>df[\"NOX_rate\"].median(), \"High\", \"Low\")\n",
    "# Add column that will indicate if a plant is above or below average for a specifc type of emissions "
   ]
  },
  {
   "cell_type": "code",
   "execution_count": 14,
   "id": "71abff30-5b67-4972-96fe-65b4b348336e",
   "metadata": {},
   "outputs": [],
   "source": [
    "rng = numpy.random.RandomState( 28 )\n",
    "from sklearn.model_selection import train_test_split\n",
    "X_train, X_test, y_train, y_test =train_test_split( df, df.CO2_rating, random_state=rng, test_size=0.5 )\n",
    "# The following models will be based on carbon dioxide emissions"
   ]
  },
  {
   "cell_type": "code",
   "execution_count": 15,
   "id": "6e9b3b1c-db4b-479b-80d9-98dc3fecc81e",
   "metadata": {},
   "outputs": [],
   "source": [
    "lstNum = [ 'installed_nameplate_capacity', 'heat_rate', 'capacity_factor', 'year_first_unit_in_service']\n",
    "lstCat = [ 'regulatory_status' , 'technology_type' , 'fuel_type',  ]"
   ]
  },
  {
   "cell_type": "code",
   "execution_count": 16,
   "id": "26468968-e025-4523-b0f0-897fb2387c51",
   "metadata": {},
   "outputs": [],
   "source": [
    "from sklearn.pipeline import Pipeline\n",
    "from sklearn.compose import ColumnTransformer\n",
    "from sklearn.preprocessing import StandardScaler\n",
    "pipeNum = Pipeline( [\n",
    "    ('selector', ColumnTransformer([ ('selector', 'passthrough', lstNum ) ] )),\n",
    "    ('scaler', StandardScaler() )\n",
    "])"
   ]
  },
  {
   "cell_type": "code",
   "execution_count": 17,
   "id": "df44ed18-7a26-4462-b417-e7b52943d510",
   "metadata": {},
   "outputs": [],
   "source": [
    "from sklearn.preprocessing import OneHotEncoder\n",
    "pipeCat = Pipeline([\n",
    "    ('selector', ColumnTransformer([ ('selector', 'passthrough', lstCat ) ] )),\n",
    "    ('encoder', OneHotEncoder( dtype=int, drop='first' ) )\n",
    "])"
   ]
  },
  {
   "cell_type": "code",
   "execution_count": 18,
   "id": "1e3398aa-160b-4b0f-8eb5-6ac7a3bc81d1",
   "metadata": {},
   "outputs": [],
   "source": [
    "from sklearn.pipeline import FeatureUnion\n",
    "preprocessor = FeatureUnion([\n",
    "    ('cat', pipeCat ),\n",
    "    ('num', pipeNum )\n",
    "])"
   ]
  },
  {
   "cell_type": "code",
   "execution_count": 19,
   "id": "48a27cc8-62cc-4355-bb05-1cb3bad8baa2",
   "metadata": {},
   "outputs": [],
   "source": [
    "from sklearn.linear_model import LogisticRegression\n",
    "pipe = Pipeline([\n",
    "    ('preprocessor', preprocessor ),\n",
    "    ('model', LogisticRegression( max_iter = 200 ) )\n",
    "    ])"
   ]
  },
  {
   "cell_type": "code",
   "execution_count": 20,
   "id": "7af563ee-c5a9-407d-a273-1191f522eb12",
   "metadata": {},
   "outputs": [
    {
     "data": {
      "text/html": [
       "<style>#sk-container-id-1 {color: black;background-color: white;}#sk-container-id-1 pre{padding: 0;}#sk-container-id-1 div.sk-toggleable {background-color: white;}#sk-container-id-1 label.sk-toggleable__label {cursor: pointer;display: block;width: 100%;margin-bottom: 0;padding: 0.3em;box-sizing: border-box;text-align: center;}#sk-container-id-1 label.sk-toggleable__label-arrow:before {content: \"▸\";float: left;margin-right: 0.25em;color: #696969;}#sk-container-id-1 label.sk-toggleable__label-arrow:hover:before {color: black;}#sk-container-id-1 div.sk-estimator:hover label.sk-toggleable__label-arrow:before {color: black;}#sk-container-id-1 div.sk-toggleable__content {max-height: 0;max-width: 0;overflow: hidden;text-align: left;background-color: #f0f8ff;}#sk-container-id-1 div.sk-toggleable__content pre {margin: 0.2em;color: black;border-radius: 0.25em;background-color: #f0f8ff;}#sk-container-id-1 input.sk-toggleable__control:checked~div.sk-toggleable__content {max-height: 200px;max-width: 100%;overflow: auto;}#sk-container-id-1 input.sk-toggleable__control:checked~label.sk-toggleable__label-arrow:before {content: \"▾\";}#sk-container-id-1 div.sk-estimator input.sk-toggleable__control:checked~label.sk-toggleable__label {background-color: #d4ebff;}#sk-container-id-1 div.sk-label input.sk-toggleable__control:checked~label.sk-toggleable__label {background-color: #d4ebff;}#sk-container-id-1 input.sk-hidden--visually {border: 0;clip: rect(1px 1px 1px 1px);clip: rect(1px, 1px, 1px, 1px);height: 1px;margin: -1px;overflow: hidden;padding: 0;position: absolute;width: 1px;}#sk-container-id-1 div.sk-estimator {font-family: monospace;background-color: #f0f8ff;border: 1px dotted black;border-radius: 0.25em;box-sizing: border-box;margin-bottom: 0.5em;}#sk-container-id-1 div.sk-estimator:hover {background-color: #d4ebff;}#sk-container-id-1 div.sk-parallel-item::after {content: \"\";width: 100%;border-bottom: 1px solid gray;flex-grow: 1;}#sk-container-id-1 div.sk-label:hover label.sk-toggleable__label {background-color: #d4ebff;}#sk-container-id-1 div.sk-serial::before {content: \"\";position: absolute;border-left: 1px solid gray;box-sizing: border-box;top: 0;bottom: 0;left: 50%;z-index: 0;}#sk-container-id-1 div.sk-serial {display: flex;flex-direction: column;align-items: center;background-color: white;padding-right: 0.2em;padding-left: 0.2em;position: relative;}#sk-container-id-1 div.sk-item {position: relative;z-index: 1;}#sk-container-id-1 div.sk-parallel {display: flex;align-items: stretch;justify-content: center;background-color: white;position: relative;}#sk-container-id-1 div.sk-item::before, #sk-container-id-1 div.sk-parallel-item::before {content: \"\";position: absolute;border-left: 1px solid gray;box-sizing: border-box;top: 0;bottom: 0;left: 50%;z-index: -1;}#sk-container-id-1 div.sk-parallel-item {display: flex;flex-direction: column;z-index: 1;position: relative;background-color: white;}#sk-container-id-1 div.sk-parallel-item:first-child::after {align-self: flex-end;width: 50%;}#sk-container-id-1 div.sk-parallel-item:last-child::after {align-self: flex-start;width: 50%;}#sk-container-id-1 div.sk-parallel-item:only-child::after {width: 0;}#sk-container-id-1 div.sk-dashed-wrapped {border: 1px dashed gray;margin: 0 0.4em 0.5em 0.4em;box-sizing: border-box;padding-bottom: 0.4em;background-color: white;}#sk-container-id-1 div.sk-label label {font-family: monospace;font-weight: bold;display: inline-block;line-height: 1.2em;}#sk-container-id-1 div.sk-label-container {text-align: center;}#sk-container-id-1 div.sk-container {/* jupyter's `normalize.less` sets `[hidden] { display: none; }` but bootstrap.min.css set `[hidden] { display: none !important; }` so we also need the `!important` here to be able to override the default hidden behavior on the sphinx rendered scikit-learn.org. See: https://github.com/scikit-learn/scikit-learn/issues/21755 */display: inline-block !important;position: relative;}#sk-container-id-1 div.sk-text-repr-fallback {display: none;}</style><div id=\"sk-container-id-1\" class=\"sk-top-container\"><div class=\"sk-text-repr-fallback\"><pre>Pipeline(steps=[(&#x27;preprocessor&#x27;,\n",
       "                 FeatureUnion(transformer_list=[(&#x27;cat&#x27;,\n",
       "                                                 Pipeline(steps=[(&#x27;selector&#x27;,\n",
       "                                                                  ColumnTransformer(transformers=[(&#x27;selector&#x27;,\n",
       "                                                                                                   &#x27;passthrough&#x27;,\n",
       "                                                                                                   [&#x27;regulatory_status&#x27;,\n",
       "                                                                                                    &#x27;technology_type&#x27;,\n",
       "                                                                                                    &#x27;fuel_type&#x27;])])),\n",
       "                                                                 (&#x27;encoder&#x27;,\n",
       "                                                                  OneHotEncoder(drop=&#x27;first&#x27;,\n",
       "                                                                                dtype=&lt;class &#x27;int&#x27;&gt;))])),\n",
       "                                                (&#x27;num&#x27;,\n",
       "                                                 Pipeline(steps=[(&#x27;selector&#x27;,\n",
       "                                                                  ColumnTransformer(transformers=[(&#x27;selector&#x27;,\n",
       "                                                                                                   &#x27;passthrough&#x27;,\n",
       "                                                                                                   [&#x27;installed_nameplate_capacity&#x27;,\n",
       "                                                                                                    &#x27;heat_rate&#x27;,\n",
       "                                                                                                    &#x27;capacity_factor&#x27;,\n",
       "                                                                                                    &#x27;year_first_unit_in_service&#x27;])])),\n",
       "                                                                 (&#x27;scaler&#x27;,\n",
       "                                                                  StandardScaler())]))])),\n",
       "                (&#x27;model&#x27;, LogisticRegression(max_iter=200))])</pre><b>In a Jupyter environment, please rerun this cell to show the HTML representation or trust the notebook. <br />On GitHub, the HTML representation is unable to render, please try loading this page with nbviewer.org.</b></div><div class=\"sk-container\" hidden><div class=\"sk-item sk-dashed-wrapped\"><div class=\"sk-label-container\"><div class=\"sk-label sk-toggleable\"><input class=\"sk-toggleable__control sk-hidden--visually\" id=\"sk-estimator-id-1\" type=\"checkbox\" ><label for=\"sk-estimator-id-1\" class=\"sk-toggleable__label sk-toggleable__label-arrow\">Pipeline</label><div class=\"sk-toggleable__content\"><pre>Pipeline(steps=[(&#x27;preprocessor&#x27;,\n",
       "                 FeatureUnion(transformer_list=[(&#x27;cat&#x27;,\n",
       "                                                 Pipeline(steps=[(&#x27;selector&#x27;,\n",
       "                                                                  ColumnTransformer(transformers=[(&#x27;selector&#x27;,\n",
       "                                                                                                   &#x27;passthrough&#x27;,\n",
       "                                                                                                   [&#x27;regulatory_status&#x27;,\n",
       "                                                                                                    &#x27;technology_type&#x27;,\n",
       "                                                                                                    &#x27;fuel_type&#x27;])])),\n",
       "                                                                 (&#x27;encoder&#x27;,\n",
       "                                                                  OneHotEncoder(drop=&#x27;first&#x27;,\n",
       "                                                                                dtype=&lt;class &#x27;int&#x27;&gt;))])),\n",
       "                                                (&#x27;num&#x27;,\n",
       "                                                 Pipeline(steps=[(&#x27;selector&#x27;,\n",
       "                                                                  ColumnTransformer(transformers=[(&#x27;selector&#x27;,\n",
       "                                                                                                   &#x27;passthrough&#x27;,\n",
       "                                                                                                   [&#x27;installed_nameplate_capacity&#x27;,\n",
       "                                                                                                    &#x27;heat_rate&#x27;,\n",
       "                                                                                                    &#x27;capacity_factor&#x27;,\n",
       "                                                                                                    &#x27;year_first_unit_in_service&#x27;])])),\n",
       "                                                                 (&#x27;scaler&#x27;,\n",
       "                                                                  StandardScaler())]))])),\n",
       "                (&#x27;model&#x27;, LogisticRegression(max_iter=200))])</pre></div></div></div><div class=\"sk-serial\"><div class=\"sk-item sk-dashed-wrapped\"><div class=\"sk-label-container\"><div class=\"sk-label sk-toggleable\"><input class=\"sk-toggleable__control sk-hidden--visually\" id=\"sk-estimator-id-2\" type=\"checkbox\" ><label for=\"sk-estimator-id-2\" class=\"sk-toggleable__label sk-toggleable__label-arrow\">preprocessor: FeatureUnion</label><div class=\"sk-toggleable__content\"><pre>FeatureUnion(transformer_list=[(&#x27;cat&#x27;,\n",
       "                                Pipeline(steps=[(&#x27;selector&#x27;,\n",
       "                                                 ColumnTransformer(transformers=[(&#x27;selector&#x27;,\n",
       "                                                                                  &#x27;passthrough&#x27;,\n",
       "                                                                                  [&#x27;regulatory_status&#x27;,\n",
       "                                                                                   &#x27;technology_type&#x27;,\n",
       "                                                                                   &#x27;fuel_type&#x27;])])),\n",
       "                                                (&#x27;encoder&#x27;,\n",
       "                                                 OneHotEncoder(drop=&#x27;first&#x27;,\n",
       "                                                               dtype=&lt;class &#x27;int&#x27;&gt;))])),\n",
       "                               (&#x27;num&#x27;,\n",
       "                                Pipeline(steps=[(&#x27;selector&#x27;,\n",
       "                                                 ColumnTransformer(transformers=[(&#x27;selector&#x27;,\n",
       "                                                                                  &#x27;passthrough&#x27;,\n",
       "                                                                                  [&#x27;installed_nameplate_capacity&#x27;,\n",
       "                                                                                   &#x27;heat_rate&#x27;,\n",
       "                                                                                   &#x27;capacity_factor&#x27;,\n",
       "                                                                                   &#x27;year_first_unit_in_service&#x27;])])),\n",
       "                                                (&#x27;scaler&#x27;,\n",
       "                                                 StandardScaler())]))])</pre></div></div></div><div class=\"sk-parallel\"><div class=\"sk-parallel-item\"><div class=\"sk-item\"><div class=\"sk-label-container\"><div class=\"sk-label sk-toggleable\"><label>cat</label></div></div><div class=\"sk-serial\"><div class=\"sk-item\"><div class=\"sk-serial\"><div class=\"sk-item sk-dashed-wrapped\"><div class=\"sk-label-container\"><div class=\"sk-label sk-toggleable\"><input class=\"sk-toggleable__control sk-hidden--visually\" id=\"sk-estimator-id-3\" type=\"checkbox\" ><label for=\"sk-estimator-id-3\" class=\"sk-toggleable__label sk-toggleable__label-arrow\">selector: ColumnTransformer</label><div class=\"sk-toggleable__content\"><pre>ColumnTransformer(transformers=[(&#x27;selector&#x27;, &#x27;passthrough&#x27;,\n",
       "                                 [&#x27;regulatory_status&#x27;, &#x27;technology_type&#x27;,\n",
       "                                  &#x27;fuel_type&#x27;])])</pre></div></div></div><div class=\"sk-parallel\"><div class=\"sk-parallel-item\"><div class=\"sk-item\"><div class=\"sk-label-container\"><div class=\"sk-label sk-toggleable\"><input class=\"sk-toggleable__control sk-hidden--visually\" id=\"sk-estimator-id-4\" type=\"checkbox\" ><label for=\"sk-estimator-id-4\" class=\"sk-toggleable__label sk-toggleable__label-arrow\">selector</label><div class=\"sk-toggleable__content\"><pre>[&#x27;regulatory_status&#x27;, &#x27;technology_type&#x27;, &#x27;fuel_type&#x27;]</pre></div></div></div><div class=\"sk-serial\"><div class=\"sk-item\"><div class=\"sk-estimator sk-toggleable\"><input class=\"sk-toggleable__control sk-hidden--visually\" id=\"sk-estimator-id-5\" type=\"checkbox\" ><label for=\"sk-estimator-id-5\" class=\"sk-toggleable__label sk-toggleable__label-arrow\">passthrough</label><div class=\"sk-toggleable__content\"><pre>passthrough</pre></div></div></div></div></div></div></div></div><div class=\"sk-item\"><div class=\"sk-estimator sk-toggleable\"><input class=\"sk-toggleable__control sk-hidden--visually\" id=\"sk-estimator-id-6\" type=\"checkbox\" ><label for=\"sk-estimator-id-6\" class=\"sk-toggleable__label sk-toggleable__label-arrow\">OneHotEncoder</label><div class=\"sk-toggleable__content\"><pre>OneHotEncoder(drop=&#x27;first&#x27;, dtype=&lt;class &#x27;int&#x27;&gt;)</pre></div></div></div></div></div></div></div></div><div class=\"sk-parallel-item\"><div class=\"sk-item\"><div class=\"sk-label-container\"><div class=\"sk-label sk-toggleable\"><label>num</label></div></div><div class=\"sk-serial\"><div class=\"sk-item\"><div class=\"sk-serial\"><div class=\"sk-item sk-dashed-wrapped\"><div class=\"sk-label-container\"><div class=\"sk-label sk-toggleable\"><input class=\"sk-toggleable__control sk-hidden--visually\" id=\"sk-estimator-id-7\" type=\"checkbox\" ><label for=\"sk-estimator-id-7\" class=\"sk-toggleable__label sk-toggleable__label-arrow\">selector: ColumnTransformer</label><div class=\"sk-toggleable__content\"><pre>ColumnTransformer(transformers=[(&#x27;selector&#x27;, &#x27;passthrough&#x27;,\n",
       "                                 [&#x27;installed_nameplate_capacity&#x27;, &#x27;heat_rate&#x27;,\n",
       "                                  &#x27;capacity_factor&#x27;,\n",
       "                                  &#x27;year_first_unit_in_service&#x27;])])</pre></div></div></div><div class=\"sk-parallel\"><div class=\"sk-parallel-item\"><div class=\"sk-item\"><div class=\"sk-label-container\"><div class=\"sk-label sk-toggleable\"><input class=\"sk-toggleable__control sk-hidden--visually\" id=\"sk-estimator-id-8\" type=\"checkbox\" ><label for=\"sk-estimator-id-8\" class=\"sk-toggleable__label sk-toggleable__label-arrow\">selector</label><div class=\"sk-toggleable__content\"><pre>[&#x27;installed_nameplate_capacity&#x27;, &#x27;heat_rate&#x27;, &#x27;capacity_factor&#x27;, &#x27;year_first_unit_in_service&#x27;]</pre></div></div></div><div class=\"sk-serial\"><div class=\"sk-item\"><div class=\"sk-estimator sk-toggleable\"><input class=\"sk-toggleable__control sk-hidden--visually\" id=\"sk-estimator-id-9\" type=\"checkbox\" ><label for=\"sk-estimator-id-9\" class=\"sk-toggleable__label sk-toggleable__label-arrow\">passthrough</label><div class=\"sk-toggleable__content\"><pre>passthrough</pre></div></div></div></div></div></div></div></div><div class=\"sk-item\"><div class=\"sk-estimator sk-toggleable\"><input class=\"sk-toggleable__control sk-hidden--visually\" id=\"sk-estimator-id-10\" type=\"checkbox\" ><label for=\"sk-estimator-id-10\" class=\"sk-toggleable__label sk-toggleable__label-arrow\">StandardScaler</label><div class=\"sk-toggleable__content\"><pre>StandardScaler()</pre></div></div></div></div></div></div></div></div></div></div><div class=\"sk-item\"><div class=\"sk-estimator sk-toggleable\"><input class=\"sk-toggleable__control sk-hidden--visually\" id=\"sk-estimator-id-11\" type=\"checkbox\" ><label for=\"sk-estimator-id-11\" class=\"sk-toggleable__label sk-toggleable__label-arrow\">LogisticRegression</label><div class=\"sk-toggleable__content\"><pre>LogisticRegression(max_iter=200)</pre></div></div></div></div></div></div></div>"
      ],
      "text/plain": [
       "Pipeline(steps=[('preprocessor',\n",
       "                 FeatureUnion(transformer_list=[('cat',\n",
       "                                                 Pipeline(steps=[('selector',\n",
       "                                                                  ColumnTransformer(transformers=[('selector',\n",
       "                                                                                                   'passthrough',\n",
       "                                                                                                   ['regulatory_status',\n",
       "                                                                                                    'technology_type',\n",
       "                                                                                                    'fuel_type'])])),\n",
       "                                                                 ('encoder',\n",
       "                                                                  OneHotEncoder(drop='first',\n",
       "                                                                                dtype=<class 'int'>))])),\n",
       "                                                ('num',\n",
       "                                                 Pipeline(steps=[('selector',\n",
       "                                                                  ColumnTransformer(transformers=[('selector',\n",
       "                                                                                                   'passthrough',\n",
       "                                                                                                   ['installed_nameplate_capacity',\n",
       "                                                                                                    'heat_rate',\n",
       "                                                                                                    'capacity_factor',\n",
       "                                                                                                    'year_first_unit_in_service'])])),\n",
       "                                                                 ('scaler',\n",
       "                                                                  StandardScaler())]))])),\n",
       "                ('model', LogisticRegression(max_iter=200))])"
      ]
     },
     "execution_count": 20,
     "metadata": {},
     "output_type": "execute_result"
    }
   ],
   "source": [
    "pipe.fit( X_train, y_train )"
   ]
  },
  {
   "cell_type": "code",
   "execution_count": 21,
   "id": "fad7516a-3d6e-4357-b796-733e06471013",
   "metadata": {},
   "outputs": [],
   "source": [
    "import sklearn.metrics\n",
    "predTrain = pipe.predict( X_train )\n",
    "predTest = pipe.predict( X_test )"
   ]
  },
  {
   "cell_type": "code",
   "execution_count": 22,
   "id": "95c09439-e993-4ceb-8f83-afc9c8dc12ae",
   "metadata": {},
   "outputs": [
    {
     "data": {
      "text/plain": [
       "High    324\n",
       "Low     322\n",
       "Name: CO2_rating, dtype: int64"
      ]
     },
     "execution_count": 22,
     "metadata": {},
     "output_type": "execute_result"
    },
    {
     "data": {
      "text/plain": [
       "Low     342\n",
       "High    304\n",
       "dtype: int64"
      ]
     },
     "execution_count": 22,
     "metadata": {},
     "output_type": "execute_result"
    }
   ],
   "source": [
    "pandas.value_counts( y_train )\n",
    "pandas.value_counts( predTrain )"
   ]
  },
  {
   "cell_type": "code",
   "execution_count": 23,
   "id": "83ae38d3-9329-419c-9a77-1b97319dd65b",
   "metadata": {},
   "outputs": [
    {
     "data": {
      "text/plain": [
       "array([[236,  88],\n",
       "       [ 68, 254]], dtype=int64)"
      ]
     },
     "execution_count": 23,
     "metadata": {},
     "output_type": "execute_result"
    }
   ],
   "source": [
    "sklearn.metrics.confusion_matrix( y_train, predTrain )"
   ]
  },
  {
   "cell_type": "code",
   "execution_count": 24,
   "id": "23f23042-f07a-4a50-8b33-1cf01574dc10",
   "metadata": {},
   "outputs": [
    {
     "data": {
      "text/plain": [
       "0.7585139318885449"
      ]
     },
     "execution_count": 24,
     "metadata": {},
     "output_type": "execute_result"
    },
    {
     "data": {
      "text/plain": [
       "0.5171158048069919"
      ]
     },
     "execution_count": 24,
     "metadata": {},
     "output_type": "execute_result"
    }
   ],
   "source": [
    "sklearn.metrics.accuracy_score( y_train, predTrain )\n",
    "sklearn.metrics.cohen_kappa_score( y_train, predTrain )"
   ]
  },
  {
   "cell_type": "code",
   "execution_count": 25,
   "id": "b7dbd766-de06-4a0e-a97b-ff22c5c72d17",
   "metadata": {},
   "outputs": [
    {
     "data": {
      "text/plain": [
       "0.7461300309597523"
      ]
     },
     "execution_count": 25,
     "metadata": {},
     "output_type": "execute_result"
    },
    {
     "data": {
      "text/plain": [
       "0.49216757741347905"
      ]
     },
     "execution_count": 25,
     "metadata": {},
     "output_type": "execute_result"
    }
   ],
   "source": [
    "sklearn.metrics.accuracy_score( y_test, predTest )\n",
    "sklearn.metrics.cohen_kappa_score( y_test, predTest )"
   ]
  },
  {
   "cell_type": "code",
   "execution_count": 26,
   "id": "804c6801-546f-4bf7-8d4a-9a1808a47626",
   "metadata": {},
   "outputs": [
    {
     "name": "stdout",
     "output_type": "stream",
     "text": [
      "              precision    recall  f1-score   support\n",
      "\n",
      "        High       0.78      0.73      0.75       324\n",
      "         Low       0.74      0.79      0.77       322\n",
      "\n",
      "    accuracy                           0.76       646\n",
      "   macro avg       0.76      0.76      0.76       646\n",
      "weighted avg       0.76      0.76      0.76       646\n",
      "\n"
     ]
    }
   ],
   "source": [
    "print( sklearn.metrics.classification_report( y_train, predTrain ) )"
   ]
  },
  {
   "cell_type": "code",
   "execution_count": 27,
   "id": "0e3968c4-9cf1-4ea8-a621-fa0b9c1d3afb",
   "metadata": {},
   "outputs": [
    {
     "data": {
      "image/png": "[encoded data removed]",
      "text/plain": [
       "<Figure size 640x480 with 2 Axes>"
      ]
     },
     "metadata": {},
     "output_type": "display_data"
    }
   ],
   "source": [
    "from sklearn.metrics import ConfusionMatrixDisplay\n",
    "cmLogistic = sklearn.metrics.confusion_matrix( y_train, predTrain )\n",
    "plotCmLogistic = sklearn.metrics.ConfusionMatrixDisplay( cmLogistic, display_labels=pipe.classes_ ).plot()"
   ]
  },
  {
   "cell_type": "code",
   "execution_count": 28,
   "id": "9afcd710-fd9f-4cd8-bc35-4b1b7547c45f",
   "metadata": {},
   "outputs": [],
   "source": [
    "from sklearn.neural_network import MLPClassifier\n",
    "pipeNn55 = Pipeline([\n",
    "    ('preprocessor', preprocessor ),\n",
    "    ('model', MLPClassifier(hidden_layer_sizes=(50,50), random_state = 28, max_iter=2000))  \n",
    "], verbose = True)"
   ]
  },
  {
   "cell_type": "code",
   "execution_count": 29,
   "id": "96efc012-f28d-4b81-9c3b-7306da058fc6",
   "metadata": {},
   "outputs": [
    {
     "name": "stdout",
     "output_type": "stream",
     "text": [
      "[Pipeline] ...... (step 1 of 2) Processing preprocessor, total=   0.0s\n",
      "[Pipeline] ............. (step 2 of 2) Processing model, total=   7.5s\n"
     ]
    },
    {
     "data": {
      "text/html": [
       "<style>#sk-container-id-2 {color: black;background-color: white;}#sk-container-id-2 pre{padding: 0;}#sk-container-id-2 div.sk-toggleable {background-color: white;}#sk-container-id-2 label.sk-toggleable__label {cursor: pointer;display: block;width: 100%;margin-bottom: 0;padding: 0.3em;box-sizing: border-box;text-align: center;}#sk-container-id-2 label.sk-toggleable__label-arrow:before {content: \"▸\";float: left;margin-right: 0.25em;color: #696969;}#sk-container-id-2 label.sk-toggleable__label-arrow:hover:before {color: black;}#sk-container-id-2 div.sk-estimator:hover label.sk-toggleable__label-arrow:before {color: black;}#sk-container-id-2 div.sk-toggleable__content {max-height: 0;max-width: 0;overflow: hidden;text-align: left;background-color: #f0f8ff;}#sk-container-id-2 div.sk-toggleable__content pre {margin: 0.2em;color: black;border-radius: 0.25em;background-color: #f0f8ff;}#sk-container-id-2 input.sk-toggleable__control:checked~div.sk-toggleable__content {max-height: 200px;max-width: 100%;overflow: auto;}#sk-container-id-2 input.sk-toggleable__control:checked~label.sk-toggleable__label-arrow:before {content: \"▾\";}#sk-container-id-2 div.sk-estimator input.sk-toggleable__control:checked~label.sk-toggleable__label {background-color: #d4ebff;}#sk-container-id-2 div.sk-label input.sk-toggleable__control:checked~label.sk-toggleable__label {background-color: #d4ebff;}#sk-container-id-2 input.sk-hidden--visually {border: 0;clip: rect(1px 1px 1px 1px);clip: rect(1px, 1px, 1px, 1px);height: 1px;margin: -1px;overflow: hidden;padding: 0;position: absolute;width: 1px;}#sk-container-id-2 div.sk-estimator {font-family: monospace;background-color: #f0f8ff;border: 1px dotted black;border-radius: 0.25em;box-sizing: border-box;margin-bottom: 0.5em;}#sk-container-id-2 div.sk-estimator:hover {background-color: #d4ebff;}#sk-container-id-2 div.sk-parallel-item::after {content: \"\";width: 100%;border-bottom: 1px solid gray;flex-grow: 1;}#sk-container-id-2 div.sk-label:hover label.sk-toggleable__label {background-color: #d4ebff;}#sk-container-id-2 div.sk-serial::before {content: \"\";position: absolute;border-left: 1px solid gray;box-sizing: border-box;top: 0;bottom: 0;left: 50%;z-index: 0;}#sk-container-id-2 div.sk-serial {display: flex;flex-direction: column;align-items: center;background-color: white;padding-right: 0.2em;padding-left: 0.2em;position: relative;}#sk-container-id-2 div.sk-item {position: relative;z-index: 1;}#sk-container-id-2 div.sk-parallel {display: flex;align-items: stretch;justify-content: center;background-color: white;position: relative;}#sk-container-id-2 div.sk-item::before, #sk-container-id-2 div.sk-parallel-item::before {content: \"\";position: absolute;border-left: 1px solid gray;box-sizing: border-box;top: 0;bottom: 0;left: 50%;z-index: -1;}#sk-container-id-2 div.sk-parallel-item {display: flex;flex-direction: column;z-index: 1;position: relative;background-color: white;}#sk-container-id-2 div.sk-parallel-item:first-child::after {align-self: flex-end;width: 50%;}#sk-container-id-2 div.sk-parallel-item:last-child::after {align-self: flex-start;width: 50%;}#sk-container-id-2 div.sk-parallel-item:only-child::after {width: 0;}#sk-container-id-2 div.sk-dashed-wrapped {border: 1px dashed gray;margin: 0 0.4em 0.5em 0.4em;box-sizing: border-box;padding-bottom: 0.4em;background-color: white;}#sk-container-id-2 div.sk-label label {font-family: monospace;font-weight: bold;display: inline-block;line-height: 1.2em;}#sk-container-id-2 div.sk-label-container {text-align: center;}#sk-container-id-2 div.sk-container {/* jupyter's `normalize.less` sets `[hidden] { display: none; }` but bootstrap.min.css set `[hidden] { display: none !important; }` so we also need the `!important` here to be able to override the default hidden behavior on the sphinx rendered scikit-learn.org. See: https://github.com/scikit-learn/scikit-learn/issues/21755 */display: inline-block !important;position: relative;}#sk-container-id-2 div.sk-text-repr-fallback {display: none;}</style><div id=\"sk-container-id-2\" class=\"sk-top-container\"><div class=\"sk-text-repr-fallback\"><pre>Pipeline(steps=[(&#x27;preprocessor&#x27;,\n",
       "                 FeatureUnion(transformer_list=[(&#x27;cat&#x27;,\n",
       "                                                 Pipeline(steps=[(&#x27;selector&#x27;,\n",
       "                                                                  ColumnTransformer(transformers=[(&#x27;selector&#x27;,\n",
       "                                                                                                   &#x27;passthrough&#x27;,\n",
       "                                                                                                   [&#x27;regulatory_status&#x27;,\n",
       "                                                                                                    &#x27;technology_type&#x27;,\n",
       "                                                                                                    &#x27;fuel_type&#x27;])])),\n",
       "                                                                 (&#x27;encoder&#x27;,\n",
       "                                                                  OneHotEncoder(drop=&#x27;first&#x27;,\n",
       "                                                                                dtype=&lt;class &#x27;int&#x27;&gt;))])),\n",
       "                                                (&#x27;num&#x27;,\n",
       "                                                 Pipeline(steps=[(&#x27;selector&#x27;,\n",
       "                                                                  ColumnTransformer(transformers=[(&#x27;selector&#x27;,\n",
       "                                                                                                   &#x27;passthrough&#x27;,\n",
       "                                                                                                   [&#x27;installed_nameplate_capacity&#x27;,\n",
       "                                                                                                    &#x27;heat_rate&#x27;,\n",
       "                                                                                                    &#x27;capacity_factor&#x27;,\n",
       "                                                                                                    &#x27;year_first_unit_in_service&#x27;])])),\n",
       "                                                                 (&#x27;scaler&#x27;,\n",
       "                                                                  StandardScaler())]))])),\n",
       "                (&#x27;model&#x27;,\n",
       "                 MLPClassifier(hidden_layer_sizes=(50, 50), max_iter=2000,\n",
       "                               random_state=28))],\n",
       "         verbose=True)</pre><b>In a Jupyter environment, please rerun this cell to show the HTML representation or trust the notebook. <br />On GitHub, the HTML representation is unable to render, please try loading this page with nbviewer.org.</b></div><div class=\"sk-container\" hidden><div class=\"sk-item sk-dashed-wrapped\"><div class=\"sk-label-container\"><div class=\"sk-label sk-toggleable\"><input class=\"sk-toggleable__control sk-hidden--visually\" id=\"sk-estimator-id-12\" type=\"checkbox\" ><label for=\"sk-estimator-id-12\" class=\"sk-toggleable__label sk-toggleable__label-arrow\">Pipeline</label><div class=\"sk-toggleable__content\"><pre>Pipeline(steps=[(&#x27;preprocessor&#x27;,\n",
       "                 FeatureUnion(transformer_list=[(&#x27;cat&#x27;,\n",
       "                                                 Pipeline(steps=[(&#x27;selector&#x27;,\n",
       "                                                                  ColumnTransformer(transformers=[(&#x27;selector&#x27;,\n",
       "                                                                                                   &#x27;passthrough&#x27;,\n",
       "                                                                                                   [&#x27;regulatory_status&#x27;,\n",
       "                                                                                                    &#x27;technology_type&#x27;,\n",
       "                                                                                                    &#x27;fuel_type&#x27;])])),\n",
       "                                                                 (&#x27;encoder&#x27;,\n",
       "                                                                  OneHotEncoder(drop=&#x27;first&#x27;,\n",
       "                                                                                dtype=&lt;class &#x27;int&#x27;&gt;))])),\n",
       "                                                (&#x27;num&#x27;,\n",
       "                                                 Pipeline(steps=[(&#x27;selector&#x27;,\n",
       "                                                                  ColumnTransformer(transformers=[(&#x27;selector&#x27;,\n",
       "                                                                                                   &#x27;passthrough&#x27;,\n",
       "                                                                                                   [&#x27;installed_nameplate_capacity&#x27;,\n",
       "                                                                                                    &#x27;heat_rate&#x27;,\n",
       "                                                                                                    &#x27;capacity_factor&#x27;,\n",
       "                                                                                                    &#x27;year_first_unit_in_service&#x27;])])),\n",
       "                                                                 (&#x27;scaler&#x27;,\n",
       "                                                                  StandardScaler())]))])),\n",
       "                (&#x27;model&#x27;,\n",
       "                 MLPClassifier(hidden_layer_sizes=(50, 50), max_iter=2000,\n",
       "                               random_state=28))],\n",
       "         verbose=True)</pre></div></div></div><div class=\"sk-serial\"><div class=\"sk-item sk-dashed-wrapped\"><div class=\"sk-label-container\"><div class=\"sk-label sk-toggleable\"><input class=\"sk-toggleable__control sk-hidden--visually\" id=\"sk-estimator-id-13\" type=\"checkbox\" ><label for=\"sk-estimator-id-13\" class=\"sk-toggleable__label sk-toggleable__label-arrow\">preprocessor: FeatureUnion</label><div class=\"sk-toggleable__content\"><pre>FeatureUnion(transformer_list=[(&#x27;cat&#x27;,\n",
       "                                Pipeline(steps=[(&#x27;selector&#x27;,\n",
       "                                                 ColumnTransformer(transformers=[(&#x27;selector&#x27;,\n",
       "                                                                                  &#x27;passthrough&#x27;,\n",
       "                                                                                  [&#x27;regulatory_status&#x27;,\n",
       "                                                                                   &#x27;technology_type&#x27;,\n",
       "                                                                                   &#x27;fuel_type&#x27;])])),\n",
       "                                                (&#x27;encoder&#x27;,\n",
       "                                                 OneHotEncoder(drop=&#x27;first&#x27;,\n",
       "                                                               dtype=&lt;class &#x27;int&#x27;&gt;))])),\n",
       "                               (&#x27;num&#x27;,\n",
       "                                Pipeline(steps=[(&#x27;selector&#x27;,\n",
       "                                                 ColumnTransformer(transformers=[(&#x27;selector&#x27;,\n",
       "                                                                                  &#x27;passthrough&#x27;,\n",
       "                                                                                  [&#x27;installed_nameplate_capacity&#x27;,\n",
       "                                                                                   &#x27;heat_rate&#x27;,\n",
       "                                                                                   &#x27;capacity_factor&#x27;,\n",
       "                                                                                   &#x27;year_first_unit_in_service&#x27;])])),\n",
       "                                                (&#x27;scaler&#x27;,\n",
       "                                                 StandardScaler())]))])</pre></div></div></div><div class=\"sk-parallel\"><div class=\"sk-parallel-item\"><div class=\"sk-item\"><div class=\"sk-label-container\"><div class=\"sk-label sk-toggleable\"><label>cat</label></div></div><div class=\"sk-serial\"><div class=\"sk-item\"><div class=\"sk-serial\"><div class=\"sk-item sk-dashed-wrapped\"><div class=\"sk-label-container\"><div class=\"sk-label sk-toggleable\"><input class=\"sk-toggleable__control sk-hidden--visually\" id=\"sk-estimator-id-14\" type=\"checkbox\" ><label for=\"sk-estimator-id-14\" class=\"sk-toggleable__label sk-toggleable__label-arrow\">selector: ColumnTransformer</label><div class=\"sk-toggleable__content\"><pre>ColumnTransformer(transformers=[(&#x27;selector&#x27;, &#x27;passthrough&#x27;,\n",
       "                                 [&#x27;regulatory_status&#x27;, &#x27;technology_type&#x27;,\n",
       "                                  &#x27;fuel_type&#x27;])])</pre></div></div></div><div class=\"sk-parallel\"><div class=\"sk-parallel-item\"><div class=\"sk-item\"><div class=\"sk-label-container\"><div class=\"sk-label sk-toggleable\"><input class=\"sk-toggleable__control sk-hidden--visually\" id=\"sk-estimator-id-15\" type=\"checkbox\" ><label for=\"sk-estimator-id-15\" class=\"sk-toggleable__label sk-toggleable__label-arrow\">selector</label><div class=\"sk-toggleable__content\"><pre>[&#x27;regulatory_status&#x27;, &#x27;technology_type&#x27;, &#x27;fuel_type&#x27;]</pre></div></div></div><div class=\"sk-serial\"><div class=\"sk-item\"><div class=\"sk-estimator sk-toggleable\"><input class=\"sk-toggleable__control sk-hidden--visually\" id=\"sk-estimator-id-16\" type=\"checkbox\" ><label for=\"sk-estimator-id-16\" class=\"sk-toggleable__label sk-toggleable__label-arrow\">passthrough</label><div class=\"sk-toggleable__content\"><pre>passthrough</pre></div></div></div></div></div></div></div></div><div class=\"sk-item\"><div class=\"sk-estimator sk-toggleable\"><input class=\"sk-toggleable__control sk-hidden--visually\" id=\"sk-estimator-id-17\" type=\"checkbox\" ><label for=\"sk-estimator-id-17\" class=\"sk-toggleable__label sk-toggleable__label-arrow\">OneHotEncoder</label><div class=\"sk-toggleable__content\"><pre>OneHotEncoder(drop=&#x27;first&#x27;, dtype=&lt;class &#x27;int&#x27;&gt;)</pre></div></div></div></div></div></div></div></div><div class=\"sk-parallel-item\"><div class=\"sk-item\"><div class=\"sk-label-container\"><div class=\"sk-label sk-toggleable\"><label>num</label></div></div><div class=\"sk-serial\"><div class=\"sk-item\"><div class=\"sk-serial\"><div class=\"sk-item sk-dashed-wrapped\"><div class=\"sk-label-container\"><div class=\"sk-label sk-toggleable\"><input class=\"sk-toggleable__control sk-hidden--visually\" id=\"sk-estimator-id-18\" type=\"checkbox\" ><label for=\"sk-estimator-id-18\" class=\"sk-toggleable__label sk-toggleable__label-arrow\">selector: ColumnTransformer</label><div class=\"sk-toggleable__content\"><pre>ColumnTransformer(transformers=[(&#x27;selector&#x27;, &#x27;passthrough&#x27;,\n",
       "                                 [&#x27;installed_nameplate_capacity&#x27;, &#x27;heat_rate&#x27;,\n",
       "                                  &#x27;capacity_factor&#x27;,\n",
       "                                  &#x27;year_first_unit_in_service&#x27;])])</pre></div></div></div><div class=\"sk-parallel\"><div class=\"sk-parallel-item\"><div class=\"sk-item\"><div class=\"sk-label-container\"><div class=\"sk-label sk-toggleable\"><input class=\"sk-toggleable__control sk-hidden--visually\" id=\"sk-estimator-id-19\" type=\"checkbox\" ><label for=\"sk-estimator-id-19\" class=\"sk-toggleable__label sk-toggleable__label-arrow\">selector</label><div class=\"sk-toggleable__content\"><pre>[&#x27;installed_nameplate_capacity&#x27;, &#x27;heat_rate&#x27;, &#x27;capacity_factor&#x27;, &#x27;year_first_unit_in_service&#x27;]</pre></div></div></div><div class=\"sk-serial\"><div class=\"sk-item\"><div class=\"sk-estimator sk-toggleable\"><input class=\"sk-toggleable__control sk-hidden--visually\" id=\"sk-estimator-id-20\" type=\"checkbox\" ><label for=\"sk-estimator-id-20\" class=\"sk-toggleable__label sk-toggleable__label-arrow\">passthrough</label><div class=\"sk-toggleable__content\"><pre>passthrough</pre></div></div></div></div></div></div></div></div><div class=\"sk-item\"><div class=\"sk-estimator sk-toggleable\"><input class=\"sk-toggleable__control sk-hidden--visually\" id=\"sk-estimator-id-21\" type=\"checkbox\" ><label for=\"sk-estimator-id-21\" class=\"sk-toggleable__label sk-toggleable__label-arrow\">StandardScaler</label><div class=\"sk-toggleable__content\"><pre>StandardScaler()</pre></div></div></div></div></div></div></div></div></div></div><div class=\"sk-item\"><div class=\"sk-estimator sk-toggleable\"><input class=\"sk-toggleable__control sk-hidden--visually\" id=\"sk-estimator-id-22\" type=\"checkbox\" ><label for=\"sk-estimator-id-22\" class=\"sk-toggleable__label sk-toggleable__label-arrow\">MLPClassifier</label><div class=\"sk-toggleable__content\"><pre>MLPClassifier(hidden_layer_sizes=(50, 50), max_iter=2000, random_state=28)</pre></div></div></div></div></div></div></div>"
      ],
      "text/plain": [
       "Pipeline(steps=[('preprocessor',\n",
       "                 FeatureUnion(transformer_list=[('cat',\n",
       "                                                 Pipeline(steps=[('selector',\n",
       "                                                                  ColumnTransformer(transformers=[('selector',\n",
       "                                                                                                   'passthrough',\n",
       "                                                                                                   ['regulatory_status',\n",
       "                                                                                                    'technology_type',\n",
       "                                                                                                    'fuel_type'])])),\n",
       "                                                                 ('encoder',\n",
       "                                                                  OneHotEncoder(drop='first',\n",
       "                                                                                dtype=<class 'int'>))])),\n",
       "                                                ('num',\n",
       "                                                 Pipeline(steps=[('selector',\n",
       "                                                                  ColumnTransformer(transformers=[('selector',\n",
       "                                                                                                   'passthrough',\n",
       "                                                                                                   ['installed_nameplate_capacity',\n",
       "                                                                                                    'heat_rate',\n",
       "                                                                                                    'capacity_factor',\n",
       "                                                                                                    'year_first_unit_in_service'])])),\n",
       "                                                                 ('scaler',\n",
       "                                                                  StandardScaler())]))])),\n",
       "                ('model',\n",
       "                 MLPClassifier(hidden_layer_sizes=(50, 50), max_iter=2000,\n",
       "                               random_state=28))],\n",
       "         verbose=True)"
      ]
     },
     "execution_count": 29,
     "metadata": {},
     "output_type": "execute_result"
    }
   ],
   "source": [
    "pipeNn55.fit( X_train, y_train )"
   ]
  },
  {
   "cell_type": "code",
   "execution_count": 30,
   "id": "624e6436-41d7-44dd-800c-14d25000c38f",
   "metadata": {},
   "outputs": [],
   "source": [
    "predTrainNn55 = pipeNn55.predict( X_train )\n",
    "predTestNn55 = pipeNn55.predict( X_test )"
   ]
  },
  {
   "cell_type": "code",
   "execution_count": 31,
   "id": "6f09fc83-3c04-4e31-8b3b-f35a7d3252d1",
   "metadata": {},
   "outputs": [
    {
     "data": {
      "text/plain": [
       "0.8668730650154799"
      ]
     },
     "execution_count": 31,
     "metadata": {},
     "output_type": "execute_result"
    },
    {
     "data": {
      "text/plain": [
       "0.7338405227756166"
      ]
     },
     "execution_count": 31,
     "metadata": {},
     "output_type": "execute_result"
    }
   ],
   "source": [
    "sklearn.metrics.accuracy_score( y_train, predTrainNn55 )\n",
    "sklearn.metrics.cohen_kappa_score( y_train, predTrainNn55 )"
   ]
  },
  {
   "cell_type": "code",
   "execution_count": 32,
   "id": "70d089a6-8fee-4a4d-9de5-7416f7202450",
   "metadata": {},
   "outputs": [
    {
     "data": {
      "text/plain": [
       "0.7337461300309598"
      ]
     },
     "execution_count": 32,
     "metadata": {},
     "output_type": "execute_result"
    },
    {
     "data": {
      "text/plain": [
       "0.4672522582996107"
      ]
     },
     "execution_count": 32,
     "metadata": {},
     "output_type": "execute_result"
    }
   ],
   "source": [
    "sklearn.metrics.accuracy_score( y_test, predTestNn55 )\n",
    "sklearn.metrics.cohen_kappa_score( y_test, predTestNn55 )"
   ]
  },
  {
   "cell_type": "code",
   "execution_count": 33,
   "id": "b0175445-e8d1-4901-87f9-dbbf1a920592",
   "metadata": {},
   "outputs": [
    {
     "name": "stderr",
     "output_type": "stream",
     "text": [
      "C:\\Users\\Ahern\\miniconda3\\lib\\site-packages\\xgboost\\compat.py:36: FutureWarning: pandas.Int64Index is deprecated and will be removed from pandas in a future version. Use pandas.Index with the appropriate dtype instead.\n",
      "  from pandas import MultiIndex, Int64Index\n"
     ]
    }
   ],
   "source": [
    "from xgboost import XGBClassifier\n",
    "pipeXgbB = Pipeline([\n",
    "    ('preprocessor', preprocessor ),\n",
    "    ('model', XGBClassifier(use_label_encoder = False, learning_rate = .6))  \n",
    "], verbose = True)"
   ]
  },
  {
   "cell_type": "code",
   "execution_count": 34,
   "id": "95963aad-24b7-4a2f-9c2a-cb2055f65b6d",
   "metadata": {},
   "outputs": [],
   "source": [
    "from sklearn.preprocessing import LabelEncoder\n",
    "le = LabelEncoder()\n",
    "y_trainEnc = le.fit_transform(y_train)\n",
    "y_testEnc = le.fit_transform(y_test)"
   ]
  },
  {
   "cell_type": "code",
   "execution_count": 35,
   "id": "676dd2cf-135f-402c-8b0b-a90bc7639233",
   "metadata": {},
   "outputs": [
    {
     "name": "stdout",
     "output_type": "stream",
     "text": [
      "[Pipeline] ...... (step 1 of 2) Processing preprocessor, total=   0.0s\n",
      "[13:02:39] WARNING: C:\\Windows\\Temp\\abs_557yfx631l\\croots\\recipe\\xgboost-split_1659548953302\\work\\src\\learner.cc:1115: Starting in XGBoost 1.3.0, the default evaluation metric used with the objective 'binary:logistic' was changed from 'error' to 'logloss'. Explicitly set eval_metric if you'd like to restore the old behavior.\n",
      "[Pipeline] ............. (step 2 of 2) Processing model, total=   0.1s\n"
     ]
    },
    {
     "data": {
      "text/html": [
       "<style>#sk-container-id-3 {color: black;background-color: white;}#sk-container-id-3 pre{padding: 0;}#sk-container-id-3 div.sk-toggleable {background-color: white;}#sk-container-id-3 label.sk-toggleable__label {cursor: pointer;display: block;width: 100%;margin-bottom: 0;padding: 0.3em;box-sizing: border-box;text-align: center;}#sk-container-id-3 label.sk-toggleable__label-arrow:before {content: \"▸\";float: left;margin-right: 0.25em;color: #696969;}#sk-container-id-3 label.sk-toggleable__label-arrow:hover:before {color: black;}#sk-container-id-3 div.sk-estimator:hover label.sk-toggleable__label-arrow:before {color: black;}#sk-container-id-3 div.sk-toggleable__content {max-height: 0;max-width: 0;overflow: hidden;text-align: left;background-color: #f0f8ff;}#sk-container-id-3 div.sk-toggleable__content pre {margin: 0.2em;color: black;border-radius: 0.25em;background-color: #f0f8ff;}#sk-container-id-3 input.sk-toggleable__control:checked~div.sk-toggleable__content {max-height: 200px;max-width: 100%;overflow: auto;}#sk-container-id-3 input.sk-toggleable__control:checked~label.sk-toggleable__label-arrow:before {content: \"▾\";}#sk-container-id-3 div.sk-estimator input.sk-toggleable__control:checked~label.sk-toggleable__label {background-color: #d4ebff;}#sk-container-id-3 div.sk-label input.sk-toggleable__control:checked~label.sk-toggleable__label {background-color: #d4ebff;}#sk-container-id-3 input.sk-hidden--visually {border: 0;clip: rect(1px 1px 1px 1px);clip: rect(1px, 1px, 1px, 1px);height: 1px;margin: -1px;overflow: hidden;padding: 0;position: absolute;width: 1px;}#sk-container-id-3 div.sk-estimator {font-family: monospace;background-color: #f0f8ff;border: 1px dotted black;border-radius: 0.25em;box-sizing: border-box;margin-bottom: 0.5em;}#sk-container-id-3 div.sk-estimator:hover {background-color: #d4ebff;}#sk-container-id-3 div.sk-parallel-item::after {content: \"\";width: 100%;border-bottom: 1px solid gray;flex-grow: 1;}#sk-container-id-3 div.sk-label:hover label.sk-toggleable__label {background-color: #d4ebff;}#sk-container-id-3 div.sk-serial::before {content: \"\";position: absolute;border-left: 1px solid gray;box-sizing: border-box;top: 0;bottom: 0;left: 50%;z-index: 0;}#sk-container-id-3 div.sk-serial {display: flex;flex-direction: column;align-items: center;background-color: white;padding-right: 0.2em;padding-left: 0.2em;position: relative;}#sk-container-id-3 div.sk-item {position: relative;z-index: 1;}#sk-container-id-3 div.sk-parallel {display: flex;align-items: stretch;justify-content: center;background-color: white;position: relative;}#sk-container-id-3 div.sk-item::before, #sk-container-id-3 div.sk-parallel-item::before {content: \"\";position: absolute;border-left: 1px solid gray;box-sizing: border-box;top: 0;bottom: 0;left: 50%;z-index: -1;}#sk-container-id-3 div.sk-parallel-item {display: flex;flex-direction: column;z-index: 1;position: relative;background-color: white;}#sk-container-id-3 div.sk-parallel-item:first-child::after {align-self: flex-end;width: 50%;}#sk-container-id-3 div.sk-parallel-item:last-child::after {align-self: flex-start;width: 50%;}#sk-container-id-3 div.sk-parallel-item:only-child::after {width: 0;}#sk-container-id-3 div.sk-dashed-wrapped {border: 1px dashed gray;margin: 0 0.4em 0.5em 0.4em;box-sizing: border-box;padding-bottom: 0.4em;background-color: white;}#sk-container-id-3 div.sk-label label {font-family: monospace;font-weight: bold;display: inline-block;line-height: 1.2em;}#sk-container-id-3 div.sk-label-container {text-align: center;}#sk-container-id-3 div.sk-container {/* jupyter's `normalize.less` sets `[hidden] { display: none; }` but bootstrap.min.css set `[hidden] { display: none !important; }` so we also need the `!important` here to be able to override the default hidden behavior on the sphinx rendered scikit-learn.org. See: https://github.com/scikit-learn/scikit-learn/issues/21755 */display: inline-block !important;position: relative;}#sk-container-id-3 div.sk-text-repr-fallback {display: none;}</style><div id=\"sk-container-id-3\" class=\"sk-top-container\"><div class=\"sk-text-repr-fallback\"><pre>Pipeline(steps=[(&#x27;preprocessor&#x27;,\n",
       "                 FeatureUnion(transformer_list=[(&#x27;cat&#x27;,\n",
       "                                                 Pipeline(steps=[(&#x27;selector&#x27;,\n",
       "                                                                  ColumnTransformer(transformers=[(&#x27;selector&#x27;,\n",
       "                                                                                                   &#x27;passthrough&#x27;,\n",
       "                                                                                                   [&#x27;regulatory_status&#x27;,\n",
       "                                                                                                    &#x27;technology_type&#x27;,\n",
       "                                                                                                    &#x27;fuel_type&#x27;])])),\n",
       "                                                                 (&#x27;encoder&#x27;,\n",
       "                                                                  OneHotEncoder(drop=&#x27;first&#x27;,\n",
       "                                                                                dtype=&lt;class &#x27;int&#x27;&gt;))])),\n",
       "                                                (&#x27;num&#x27;,\n",
       "                                                 Pipeline(steps=[(&#x27;selector&#x27;,\n",
       "                                                                  ColumnTransformer(transformers=[(&#x27;selecto...\n",
       "                               interaction_constraints=&#x27;&#x27;, learning_rate=0.6,\n",
       "                               max_delta_step=0, max_depth=6,\n",
       "                               min_child_weight=1, missing=nan,\n",
       "                               monotone_constraints=&#x27;()&#x27;, n_estimators=100,\n",
       "                               n_jobs=16, num_parallel_tree=1, predictor=&#x27;auto&#x27;,\n",
       "                               random_state=0, reg_alpha=0, reg_lambda=1,\n",
       "                               scale_pos_weight=1, subsample=1,\n",
       "                               tree_method=&#x27;exact&#x27;, use_label_encoder=False,\n",
       "                               validate_parameters=1, verbosity=None))],\n",
       "         verbose=True)</pre><b>In a Jupyter environment, please rerun this cell to show the HTML representation or trust the notebook. <br />On GitHub, the HTML representation is unable to render, please try loading this page with nbviewer.org.</b></div><div class=\"sk-container\" hidden><div class=\"sk-item sk-dashed-wrapped\"><div class=\"sk-label-container\"><div class=\"sk-label sk-toggleable\"><input class=\"sk-toggleable__control sk-hidden--visually\" id=\"sk-estimator-id-23\" type=\"checkbox\" ><label for=\"sk-estimator-id-23\" class=\"sk-toggleable__label sk-toggleable__label-arrow\">Pipeline</label><div class=\"sk-toggleable__content\"><pre>Pipeline(steps=[(&#x27;preprocessor&#x27;,\n",
       "                 FeatureUnion(transformer_list=[(&#x27;cat&#x27;,\n",
       "                                                 Pipeline(steps=[(&#x27;selector&#x27;,\n",
       "                                                                  ColumnTransformer(transformers=[(&#x27;selector&#x27;,\n",
       "                                                                                                   &#x27;passthrough&#x27;,\n",
       "                                                                                                   [&#x27;regulatory_status&#x27;,\n",
       "                                                                                                    &#x27;technology_type&#x27;,\n",
       "                                                                                                    &#x27;fuel_type&#x27;])])),\n",
       "                                                                 (&#x27;encoder&#x27;,\n",
       "                                                                  OneHotEncoder(drop=&#x27;first&#x27;,\n",
       "                                                                                dtype=&lt;class &#x27;int&#x27;&gt;))])),\n",
       "                                                (&#x27;num&#x27;,\n",
       "                                                 Pipeline(steps=[(&#x27;selector&#x27;,\n",
       "                                                                  ColumnTransformer(transformers=[(&#x27;selecto...\n",
       "                               interaction_constraints=&#x27;&#x27;, learning_rate=0.6,\n",
       "                               max_delta_step=0, max_depth=6,\n",
       "                               min_child_weight=1, missing=nan,\n",
       "                               monotone_constraints=&#x27;()&#x27;, n_estimators=100,\n",
       "                               n_jobs=16, num_parallel_tree=1, predictor=&#x27;auto&#x27;,\n",
       "                               random_state=0, reg_alpha=0, reg_lambda=1,\n",
       "                               scale_pos_weight=1, subsample=1,\n",
       "                               tree_method=&#x27;exact&#x27;, use_label_encoder=False,\n",
       "                               validate_parameters=1, verbosity=None))],\n",
       "         verbose=True)</pre></div></div></div><div class=\"sk-serial\"><div class=\"sk-item sk-dashed-wrapped\"><div class=\"sk-label-container\"><div class=\"sk-label sk-toggleable\"><input class=\"sk-toggleable__control sk-hidden--visually\" id=\"sk-estimator-id-24\" type=\"checkbox\" ><label for=\"sk-estimator-id-24\" class=\"sk-toggleable__label sk-toggleable__label-arrow\">preprocessor: FeatureUnion</label><div class=\"sk-toggleable__content\"><pre>FeatureUnion(transformer_list=[(&#x27;cat&#x27;,\n",
       "                                Pipeline(steps=[(&#x27;selector&#x27;,\n",
       "                                                 ColumnTransformer(transformers=[(&#x27;selector&#x27;,\n",
       "                                                                                  &#x27;passthrough&#x27;,\n",
       "                                                                                  [&#x27;regulatory_status&#x27;,\n",
       "                                                                                   &#x27;technology_type&#x27;,\n",
       "                                                                                   &#x27;fuel_type&#x27;])])),\n",
       "                                                (&#x27;encoder&#x27;,\n",
       "                                                 OneHotEncoder(drop=&#x27;first&#x27;,\n",
       "                                                               dtype=&lt;class &#x27;int&#x27;&gt;))])),\n",
       "                               (&#x27;num&#x27;,\n",
       "                                Pipeline(steps=[(&#x27;selector&#x27;,\n",
       "                                                 ColumnTransformer(transformers=[(&#x27;selector&#x27;,\n",
       "                                                                                  &#x27;passthrough&#x27;,\n",
       "                                                                                  [&#x27;installed_nameplate_capacity&#x27;,\n",
       "                                                                                   &#x27;heat_rate&#x27;,\n",
       "                                                                                   &#x27;capacity_factor&#x27;,\n",
       "                                                                                   &#x27;year_first_unit_in_service&#x27;])])),\n",
       "                                                (&#x27;scaler&#x27;,\n",
       "                                                 StandardScaler())]))])</pre></div></div></div><div class=\"sk-parallel\"><div class=\"sk-parallel-item\"><div class=\"sk-item\"><div class=\"sk-label-container\"><div class=\"sk-label sk-toggleable\"><label>cat</label></div></div><div class=\"sk-serial\"><div class=\"sk-item\"><div class=\"sk-serial\"><div class=\"sk-item sk-dashed-wrapped\"><div class=\"sk-label-container\"><div class=\"sk-label sk-toggleable\"><input class=\"sk-toggleable__control sk-hidden--visually\" id=\"sk-estimator-id-25\" type=\"checkbox\" ><label for=\"sk-estimator-id-25\" class=\"sk-toggleable__label sk-toggleable__label-arrow\">selector: ColumnTransformer</label><div class=\"sk-toggleable__content\"><pre>ColumnTransformer(transformers=[(&#x27;selector&#x27;, &#x27;passthrough&#x27;,\n",
       "                                 [&#x27;regulatory_status&#x27;, &#x27;technology_type&#x27;,\n",
       "                                  &#x27;fuel_type&#x27;])])</pre></div></div></div><div class=\"sk-parallel\"><div class=\"sk-parallel-item\"><div class=\"sk-item\"><div class=\"sk-label-container\"><div class=\"sk-label sk-toggleable\"><input class=\"sk-toggleable__control sk-hidden--visually\" id=\"sk-estimator-id-26\" type=\"checkbox\" ><label for=\"sk-estimator-id-26\" class=\"sk-toggleable__label sk-toggleable__label-arrow\">selector</label><div class=\"sk-toggleable__content\"><pre>[&#x27;regulatory_status&#x27;, &#x27;technology_type&#x27;, &#x27;fuel_type&#x27;]</pre></div></div></div><div class=\"sk-serial\"><div class=\"sk-item\"><div class=\"sk-estimator sk-toggleable\"><input class=\"sk-toggleable__control sk-hidden--visually\" id=\"sk-estimator-id-27\" type=\"checkbox\" ><label for=\"sk-estimator-id-27\" class=\"sk-toggleable__label sk-toggleable__label-arrow\">passthrough</label><div class=\"sk-toggleable__content\"><pre>passthrough</pre></div></div></div></div></div></div></div></div><div class=\"sk-item\"><div class=\"sk-estimator sk-toggleable\"><input class=\"sk-toggleable__control sk-hidden--visually\" id=\"sk-estimator-id-28\" type=\"checkbox\" ><label for=\"sk-estimator-id-28\" class=\"sk-toggleable__label sk-toggleable__label-arrow\">OneHotEncoder</label><div class=\"sk-toggleable__content\"><pre>OneHotEncoder(drop=&#x27;first&#x27;, dtype=&lt;class &#x27;int&#x27;&gt;)</pre></div></div></div></div></div></div></div></div><div class=\"sk-parallel-item\"><div class=\"sk-item\"><div class=\"sk-label-container\"><div class=\"sk-label sk-toggleable\"><label>num</label></div></div><div class=\"sk-serial\"><div class=\"sk-item\"><div class=\"sk-serial\"><div class=\"sk-item sk-dashed-wrapped\"><div class=\"sk-label-container\"><div class=\"sk-label sk-toggleable\"><input class=\"sk-toggleable__control sk-hidden--visually\" id=\"sk-estimator-id-29\" type=\"checkbox\" ><label for=\"sk-estimator-id-29\" class=\"sk-toggleable__label sk-toggleable__label-arrow\">selector: ColumnTransformer</label><div class=\"sk-toggleable__content\"><pre>ColumnTransformer(transformers=[(&#x27;selector&#x27;, &#x27;passthrough&#x27;,\n",
       "                                 [&#x27;installed_nameplate_capacity&#x27;, &#x27;heat_rate&#x27;,\n",
       "                                  &#x27;capacity_factor&#x27;,\n",
       "                                  &#x27;year_first_unit_in_service&#x27;])])</pre></div></div></div><div class=\"sk-parallel\"><div class=\"sk-parallel-item\"><div class=\"sk-item\"><div class=\"sk-label-container\"><div class=\"sk-label sk-toggleable\"><input class=\"sk-toggleable__control sk-hidden--visually\" id=\"sk-estimator-id-30\" type=\"checkbox\" ><label for=\"sk-estimator-id-30\" class=\"sk-toggleable__label sk-toggleable__label-arrow\">selector</label><div class=\"sk-toggleable__content\"><pre>[&#x27;installed_nameplate_capacity&#x27;, &#x27;heat_rate&#x27;, &#x27;capacity_factor&#x27;, &#x27;year_first_unit_in_service&#x27;]</pre></div></div></div><div class=\"sk-serial\"><div class=\"sk-item\"><div class=\"sk-estimator sk-toggleable\"><input class=\"sk-toggleable__control sk-hidden--visually\" id=\"sk-estimator-id-31\" type=\"checkbox\" ><label for=\"sk-estimator-id-31\" class=\"sk-toggleable__label sk-toggleable__label-arrow\">passthrough</label><div class=\"sk-toggleable__content\"><pre>passthrough</pre></div></div></div></div></div></div></div></div><div class=\"sk-item\"><div class=\"sk-estimator sk-toggleable\"><input class=\"sk-toggleable__control sk-hidden--visually\" id=\"sk-estimator-id-32\" type=\"checkbox\" ><label for=\"sk-estimator-id-32\" class=\"sk-toggleable__label sk-toggleable__label-arrow\">StandardScaler</label><div class=\"sk-toggleable__content\"><pre>StandardScaler()</pre></div></div></div></div></div></div></div></div></div></div><div class=\"sk-item\"><div class=\"sk-estimator sk-toggleable\"><input class=\"sk-toggleable__control sk-hidden--visually\" id=\"sk-estimator-id-33\" type=\"checkbox\" ><label for=\"sk-estimator-id-33\" class=\"sk-toggleable__label sk-toggleable__label-arrow\">XGBClassifier</label><div class=\"sk-toggleable__content\"><pre>XGBClassifier(base_score=0.5, booster=&#x27;gbtree&#x27;, colsample_bylevel=1,\n",
       "              colsample_bynode=1, colsample_bytree=1, enable_categorical=False,\n",
       "              gamma=0, gpu_id=-1, importance_type=None,\n",
       "              interaction_constraints=&#x27;&#x27;, learning_rate=0.6, max_delta_step=0,\n",
       "              max_depth=6, min_child_weight=1, missing=nan,\n",
       "              monotone_constraints=&#x27;()&#x27;, n_estimators=100, n_jobs=16,\n",
       "              num_parallel_tree=1, predictor=&#x27;auto&#x27;, random_state=0,\n",
       "              reg_alpha=0, reg_lambda=1, scale_pos_weight=1, subsample=1,\n",
       "              tree_method=&#x27;exact&#x27;, use_label_encoder=False,\n",
       "              validate_parameters=1, verbosity=None)</pre></div></div></div></div></div></div></div>"
      ],
      "text/plain": [
       "Pipeline(steps=[('preprocessor',\n",
       "                 FeatureUnion(transformer_list=[('cat',\n",
       "                                                 Pipeline(steps=[('selector',\n",
       "                                                                  ColumnTransformer(transformers=[('selector',\n",
       "                                                                                                   'passthrough',\n",
       "                                                                                                   ['regulatory_status',\n",
       "                                                                                                    'technology_type',\n",
       "                                                                                                    'fuel_type'])])),\n",
       "                                                                 ('encoder',\n",
       "                                                                  OneHotEncoder(drop='first',\n",
       "                                                                                dtype=<class 'int'>))])),\n",
       "                                                ('num',\n",
       "                                                 Pipeline(steps=[('selector',\n",
       "                                                                  ColumnTransformer(transformers=[('selecto...\n",
       "                               interaction_constraints='', learning_rate=0.6,\n",
       "                               max_delta_step=0, max_depth=6,\n",
       "                               min_child_weight=1, missing=nan,\n",
       "                               monotone_constraints='()', n_estimators=100,\n",
       "                               n_jobs=16, num_parallel_tree=1, predictor='auto',\n",
       "                               random_state=0, reg_alpha=0, reg_lambda=1,\n",
       "                               scale_pos_weight=1, subsample=1,\n",
       "                               tree_method='exact', use_label_encoder=False,\n",
       "                               validate_parameters=1, verbosity=None))],\n",
       "         verbose=True)"
      ]
     },
     "execution_count": 35,
     "metadata": {},
     "output_type": "execute_result"
    }
   ],
   "source": [
    "pipeXgbB.fit(X_train, y_trainEnc)"
   ]
  },
  {
   "cell_type": "code",
   "execution_count": 36,
   "id": "81f9b61b-af58-4e62-9e43-29f9d7d72797",
   "metadata": {},
   "outputs": [],
   "source": [
    "predTrainXgbB = pipeXgbB.predict(X_train)\n",
    "predTestXgbB = pipeXgbB.predict(X_test)"
   ]
  },
  {
   "cell_type": "code",
   "execution_count": 37,
   "id": "94815a8a-5042-4d86-a302-888cf1bbbf60",
   "metadata": {},
   "outputs": [
    {
     "data": {
      "text/plain": [
       "0.7213622291021672"
      ]
     },
     "execution_count": 37,
     "metadata": {},
     "output_type": "execute_result"
    },
    {
     "data": {
      "text/plain": [
       "0.44264432386832064"
      ]
     },
     "execution_count": 37,
     "metadata": {},
     "output_type": "execute_result"
    }
   ],
   "source": [
    "sklearn.metrics.accuracy_score(y_testEnc, predTestXgbB)\n",
    "sklearn.metrics.cohen_kappa_score(y_testEnc, predTestXgbB)"
   ]
  },
  {
   "cell_type": "code",
   "execution_count": 38,
   "id": "1bad6a15-c6b7-4e20-affa-035ec74d420c",
   "metadata": {},
   "outputs": [
    {
     "data": {
      "text/html": [
       "<style>#sk-container-id-4 {color: black;background-color: white;}#sk-container-id-4 pre{padding: 0;}#sk-container-id-4 div.sk-toggleable {background-color: white;}#sk-container-id-4 label.sk-toggleable__label {cursor: pointer;display: block;width: 100%;margin-bottom: 0;padding: 0.3em;box-sizing: border-box;text-align: center;}#sk-container-id-4 label.sk-toggleable__label-arrow:before {content: \"▸\";float: left;margin-right: 0.25em;color: #696969;}#sk-container-id-4 label.sk-toggleable__label-arrow:hover:before {color: black;}#sk-container-id-4 div.sk-estimator:hover label.sk-toggleable__label-arrow:before {color: black;}#sk-container-id-4 div.sk-toggleable__content {max-height: 0;max-width: 0;overflow: hidden;text-align: left;background-color: #f0f8ff;}#sk-container-id-4 div.sk-toggleable__content pre {margin: 0.2em;color: black;border-radius: 0.25em;background-color: #f0f8ff;}#sk-container-id-4 input.sk-toggleable__control:checked~div.sk-toggleable__content {max-height: 200px;max-width: 100%;overflow: auto;}#sk-container-id-4 input.sk-toggleable__control:checked~label.sk-toggleable__label-arrow:before {content: \"▾\";}#sk-container-id-4 div.sk-estimator input.sk-toggleable__control:checked~label.sk-toggleable__label {background-color: #d4ebff;}#sk-container-id-4 div.sk-label input.sk-toggleable__control:checked~label.sk-toggleable__label {background-color: #d4ebff;}#sk-container-id-4 input.sk-hidden--visually {border: 0;clip: rect(1px 1px 1px 1px);clip: rect(1px, 1px, 1px, 1px);height: 1px;margin: -1px;overflow: hidden;padding: 0;position: absolute;width: 1px;}#sk-container-id-4 div.sk-estimator {font-family: monospace;background-color: #f0f8ff;border: 1px dotted black;border-radius: 0.25em;box-sizing: border-box;margin-bottom: 0.5em;}#sk-container-id-4 div.sk-estimator:hover {background-color: #d4ebff;}#sk-container-id-4 div.sk-parallel-item::after {content: \"\";width: 100%;border-bottom: 1px solid gray;flex-grow: 1;}#sk-container-id-4 div.sk-label:hover label.sk-toggleable__label {background-color: #d4ebff;}#sk-container-id-4 div.sk-serial::before {content: \"\";position: absolute;border-left: 1px solid gray;box-sizing: border-box;top: 0;bottom: 0;left: 50%;z-index: 0;}#sk-container-id-4 div.sk-serial {display: flex;flex-direction: column;align-items: center;background-color: white;padding-right: 0.2em;padding-left: 0.2em;position: relative;}#sk-container-id-4 div.sk-item {position: relative;z-index: 1;}#sk-container-id-4 div.sk-parallel {display: flex;align-items: stretch;justify-content: center;background-color: white;position: relative;}#sk-container-id-4 div.sk-item::before, #sk-container-id-4 div.sk-parallel-item::before {content: \"\";position: absolute;border-left: 1px solid gray;box-sizing: border-box;top: 0;bottom: 0;left: 50%;z-index: -1;}#sk-container-id-4 div.sk-parallel-item {display: flex;flex-direction: column;z-index: 1;position: relative;background-color: white;}#sk-container-id-4 div.sk-parallel-item:first-child::after {align-self: flex-end;width: 50%;}#sk-container-id-4 div.sk-parallel-item:last-child::after {align-self: flex-start;width: 50%;}#sk-container-id-4 div.sk-parallel-item:only-child::after {width: 0;}#sk-container-id-4 div.sk-dashed-wrapped {border: 1px dashed gray;margin: 0 0.4em 0.5em 0.4em;box-sizing: border-box;padding-bottom: 0.4em;background-color: white;}#sk-container-id-4 div.sk-label label {font-family: monospace;font-weight: bold;display: inline-block;line-height: 1.2em;}#sk-container-id-4 div.sk-label-container {text-align: center;}#sk-container-id-4 div.sk-container {/* jupyter's `normalize.less` sets `[hidden] { display: none; }` but bootstrap.min.css set `[hidden] { display: none !important; }` so we also need the `!important` here to be able to override the default hidden behavior on the sphinx rendered scikit-learn.org. See: https://github.com/scikit-learn/scikit-learn/issues/21755 */display: inline-block !important;position: relative;}#sk-container-id-4 div.sk-text-repr-fallback {display: none;}</style><div id=\"sk-container-id-4\" class=\"sk-top-container\"><div class=\"sk-text-repr-fallback\"><pre>Pipeline(steps=[(&#x27;preprocessor&#x27;,\n",
       "                 FeatureUnion(transformer_list=[(&#x27;cat&#x27;,\n",
       "                                                 Pipeline(steps=[(&#x27;selector&#x27;,\n",
       "                                                                  ColumnTransformer(transformers=[(&#x27;selector&#x27;,\n",
       "                                                                                                   &#x27;passthrough&#x27;,\n",
       "                                                                                                   [&#x27;regulatory_status&#x27;,\n",
       "                                                                                                    &#x27;technology_type&#x27;,\n",
       "                                                                                                    &#x27;fuel_type&#x27;])])),\n",
       "                                                                 (&#x27;encoder&#x27;,\n",
       "                                                                  OneHotEncoder(drop=&#x27;first&#x27;,\n",
       "                                                                                dtype=&lt;class &#x27;int&#x27;&gt;))])),\n",
       "                                                (&#x27;num&#x27;,\n",
       "                                                 Pipeline(steps=[(&#x27;selector&#x27;,\n",
       "                                                                  ColumnTransformer(transformers=[(&#x27;selector&#x27;,\n",
       "                                                                                                   &#x27;passthrough&#x27;,\n",
       "                                                                                                   [&#x27;installed_nameplate_capacity&#x27;,\n",
       "                                                                                                    &#x27;heat_rate&#x27;,\n",
       "                                                                                                    &#x27;capacity_factor&#x27;,\n",
       "                                                                                                    &#x27;year_first_unit_in_service&#x27;])])),\n",
       "                                                                 (&#x27;scaler&#x27;,\n",
       "                                                                  StandardScaler())]))])),\n",
       "                (&#x27;todense&#x27;, DenseTransformer()),\n",
       "                (&#x27;model&#x27;, PCA(n_components=0.85))])</pre><b>In a Jupyter environment, please rerun this cell to show the HTML representation or trust the notebook. <br />On GitHub, the HTML representation is unable to render, please try loading this page with nbviewer.org.</b></div><div class=\"sk-container\" hidden><div class=\"sk-item sk-dashed-wrapped\"><div class=\"sk-label-container\"><div class=\"sk-label sk-toggleable\"><input class=\"sk-toggleable__control sk-hidden--visually\" id=\"sk-estimator-id-34\" type=\"checkbox\" ><label for=\"sk-estimator-id-34\" class=\"sk-toggleable__label sk-toggleable__label-arrow\">Pipeline</label><div class=\"sk-toggleable__content\"><pre>Pipeline(steps=[(&#x27;preprocessor&#x27;,\n",
       "                 FeatureUnion(transformer_list=[(&#x27;cat&#x27;,\n",
       "                                                 Pipeline(steps=[(&#x27;selector&#x27;,\n",
       "                                                                  ColumnTransformer(transformers=[(&#x27;selector&#x27;,\n",
       "                                                                                                   &#x27;passthrough&#x27;,\n",
       "                                                                                                   [&#x27;regulatory_status&#x27;,\n",
       "                                                                                                    &#x27;technology_type&#x27;,\n",
       "                                                                                                    &#x27;fuel_type&#x27;])])),\n",
       "                                                                 (&#x27;encoder&#x27;,\n",
       "                                                                  OneHotEncoder(drop=&#x27;first&#x27;,\n",
       "                                                                                dtype=&lt;class &#x27;int&#x27;&gt;))])),\n",
       "                                                (&#x27;num&#x27;,\n",
       "                                                 Pipeline(steps=[(&#x27;selector&#x27;,\n",
       "                                                                  ColumnTransformer(transformers=[(&#x27;selector&#x27;,\n",
       "                                                                                                   &#x27;passthrough&#x27;,\n",
       "                                                                                                   [&#x27;installed_nameplate_capacity&#x27;,\n",
       "                                                                                                    &#x27;heat_rate&#x27;,\n",
       "                                                                                                    &#x27;capacity_factor&#x27;,\n",
       "                                                                                                    &#x27;year_first_unit_in_service&#x27;])])),\n",
       "                                                                 (&#x27;scaler&#x27;,\n",
       "                                                                  StandardScaler())]))])),\n",
       "                (&#x27;todense&#x27;, DenseTransformer()),\n",
       "                (&#x27;model&#x27;, PCA(n_components=0.85))])</pre></div></div></div><div class=\"sk-serial\"><div class=\"sk-item sk-dashed-wrapped\"><div class=\"sk-label-container\"><div class=\"sk-label sk-toggleable\"><input class=\"sk-toggleable__control sk-hidden--visually\" id=\"sk-estimator-id-35\" type=\"checkbox\" ><label for=\"sk-estimator-id-35\" class=\"sk-toggleable__label sk-toggleable__label-arrow\">preprocessor: FeatureUnion</label><div class=\"sk-toggleable__content\"><pre>FeatureUnion(transformer_list=[(&#x27;cat&#x27;,\n",
       "                                Pipeline(steps=[(&#x27;selector&#x27;,\n",
       "                                                 ColumnTransformer(transformers=[(&#x27;selector&#x27;,\n",
       "                                                                                  &#x27;passthrough&#x27;,\n",
       "                                                                                  [&#x27;regulatory_status&#x27;,\n",
       "                                                                                   &#x27;technology_type&#x27;,\n",
       "                                                                                   &#x27;fuel_type&#x27;])])),\n",
       "                                                (&#x27;encoder&#x27;,\n",
       "                                                 OneHotEncoder(drop=&#x27;first&#x27;,\n",
       "                                                               dtype=&lt;class &#x27;int&#x27;&gt;))])),\n",
       "                               (&#x27;num&#x27;,\n",
       "                                Pipeline(steps=[(&#x27;selector&#x27;,\n",
       "                                                 ColumnTransformer(transformers=[(&#x27;selector&#x27;,\n",
       "                                                                                  &#x27;passthrough&#x27;,\n",
       "                                                                                  [&#x27;installed_nameplate_capacity&#x27;,\n",
       "                                                                                   &#x27;heat_rate&#x27;,\n",
       "                                                                                   &#x27;capacity_factor&#x27;,\n",
       "                                                                                   &#x27;year_first_unit_in_service&#x27;])])),\n",
       "                                                (&#x27;scaler&#x27;,\n",
       "                                                 StandardScaler())]))])</pre></div></div></div><div class=\"sk-parallel\"><div class=\"sk-parallel-item\"><div class=\"sk-item\"><div class=\"sk-label-container\"><div class=\"sk-label sk-toggleable\"><label>cat</label></div></div><div class=\"sk-serial\"><div class=\"sk-item\"><div class=\"sk-serial\"><div class=\"sk-item sk-dashed-wrapped\"><div class=\"sk-label-container\"><div class=\"sk-label sk-toggleable\"><input class=\"sk-toggleable__control sk-hidden--visually\" id=\"sk-estimator-id-36\" type=\"checkbox\" ><label for=\"sk-estimator-id-36\" class=\"sk-toggleable__label sk-toggleable__label-arrow\">selector: ColumnTransformer</label><div class=\"sk-toggleable__content\"><pre>ColumnTransformer(transformers=[(&#x27;selector&#x27;, &#x27;passthrough&#x27;,\n",
       "                                 [&#x27;regulatory_status&#x27;, &#x27;technology_type&#x27;,\n",
       "                                  &#x27;fuel_type&#x27;])])</pre></div></div></div><div class=\"sk-parallel\"><div class=\"sk-parallel-item\"><div class=\"sk-item\"><div class=\"sk-label-container\"><div class=\"sk-label sk-toggleable\"><input class=\"sk-toggleable__control sk-hidden--visually\" id=\"sk-estimator-id-37\" type=\"checkbox\" ><label for=\"sk-estimator-id-37\" class=\"sk-toggleable__label sk-toggleable__label-arrow\">selector</label><div class=\"sk-toggleable__content\"><pre>[&#x27;regulatory_status&#x27;, &#x27;technology_type&#x27;, &#x27;fuel_type&#x27;]</pre></div></div></div><div class=\"sk-serial\"><div class=\"sk-item\"><div class=\"sk-estimator sk-toggleable\"><input class=\"sk-toggleable__control sk-hidden--visually\" id=\"sk-estimator-id-38\" type=\"checkbox\" ><label for=\"sk-estimator-id-38\" class=\"sk-toggleable__label sk-toggleable__label-arrow\">passthrough</label><div class=\"sk-toggleable__content\"><pre>passthrough</pre></div></div></div></div></div></div></div></div><div class=\"sk-item\"><div class=\"sk-estimator sk-toggleable\"><input class=\"sk-toggleable__control sk-hidden--visually\" id=\"sk-estimator-id-39\" type=\"checkbox\" ><label for=\"sk-estimator-id-39\" class=\"sk-toggleable__label sk-toggleable__label-arrow\">OneHotEncoder</label><div class=\"sk-toggleable__content\"><pre>OneHotEncoder(drop=&#x27;first&#x27;, dtype=&lt;class &#x27;int&#x27;&gt;)</pre></div></div></div></div></div></div></div></div><div class=\"sk-parallel-item\"><div class=\"sk-item\"><div class=\"sk-label-container\"><div class=\"sk-label sk-toggleable\"><label>num</label></div></div><div class=\"sk-serial\"><div class=\"sk-item\"><div class=\"sk-serial\"><div class=\"sk-item sk-dashed-wrapped\"><div class=\"sk-label-container\"><div class=\"sk-label sk-toggleable\"><input class=\"sk-toggleable__control sk-hidden--visually\" id=\"sk-estimator-id-40\" type=\"checkbox\" ><label for=\"sk-estimator-id-40\" class=\"sk-toggleable__label sk-toggleable__label-arrow\">selector: ColumnTransformer</label><div class=\"sk-toggleable__content\"><pre>ColumnTransformer(transformers=[(&#x27;selector&#x27;, &#x27;passthrough&#x27;,\n",
       "                                 [&#x27;installed_nameplate_capacity&#x27;, &#x27;heat_rate&#x27;,\n",
       "                                  &#x27;capacity_factor&#x27;,\n",
       "                                  &#x27;year_first_unit_in_service&#x27;])])</pre></div></div></div><div class=\"sk-parallel\"><div class=\"sk-parallel-item\"><div class=\"sk-item\"><div class=\"sk-label-container\"><div class=\"sk-label sk-toggleable\"><input class=\"sk-toggleable__control sk-hidden--visually\" id=\"sk-estimator-id-41\" type=\"checkbox\" ><label for=\"sk-estimator-id-41\" class=\"sk-toggleable__label sk-toggleable__label-arrow\">selector</label><div class=\"sk-toggleable__content\"><pre>[&#x27;installed_nameplate_capacity&#x27;, &#x27;heat_rate&#x27;, &#x27;capacity_factor&#x27;, &#x27;year_first_unit_in_service&#x27;]</pre></div></div></div><div class=\"sk-serial\"><div class=\"sk-item\"><div class=\"sk-estimator sk-toggleable\"><input class=\"sk-toggleable__control sk-hidden--visually\" id=\"sk-estimator-id-42\" type=\"checkbox\" ><label for=\"sk-estimator-id-42\" class=\"sk-toggleable__label sk-toggleable__label-arrow\">passthrough</label><div class=\"sk-toggleable__content\"><pre>passthrough</pre></div></div></div></div></div></div></div></div><div class=\"sk-item\"><div class=\"sk-estimator sk-toggleable\"><input class=\"sk-toggleable__control sk-hidden--visually\" id=\"sk-estimator-id-43\" type=\"checkbox\" ><label for=\"sk-estimator-id-43\" class=\"sk-toggleable__label sk-toggleable__label-arrow\">StandardScaler</label><div class=\"sk-toggleable__content\"><pre>StandardScaler()</pre></div></div></div></div></div></div></div></div></div></div><div class=\"sk-item\"><div class=\"sk-estimator sk-toggleable\"><input class=\"sk-toggleable__control sk-hidden--visually\" id=\"sk-estimator-id-44\" type=\"checkbox\" ><label for=\"sk-estimator-id-44\" class=\"sk-toggleable__label sk-toggleable__label-arrow\">DenseTransformer</label><div class=\"sk-toggleable__content\"><pre>DenseTransformer()</pre></div></div></div><div class=\"sk-item\"><div class=\"sk-estimator sk-toggleable\"><input class=\"sk-toggleable__control sk-hidden--visually\" id=\"sk-estimator-id-45\" type=\"checkbox\" ><label for=\"sk-estimator-id-45\" class=\"sk-toggleable__label sk-toggleable__label-arrow\">PCA</label><div class=\"sk-toggleable__content\"><pre>PCA(n_components=0.85)</pre></div></div></div></div></div></div></div>"
      ],
      "text/plain": [
       "Pipeline(steps=[('preprocessor',\n",
       "                 FeatureUnion(transformer_list=[('cat',\n",
       "                                                 Pipeline(steps=[('selector',\n",
       "                                                                  ColumnTransformer(transformers=[('selector',\n",
       "                                                                                                   'passthrough',\n",
       "                                                                                                   ['regulatory_status',\n",
       "                                                                                                    'technology_type',\n",
       "                                                                                                    'fuel_type'])])),\n",
       "                                                                 ('encoder',\n",
       "                                                                  OneHotEncoder(drop='first',\n",
       "                                                                                dtype=<class 'int'>))])),\n",
       "                                                ('num',\n",
       "                                                 Pipeline(steps=[('selector',\n",
       "                                                                  ColumnTransformer(transformers=[('selector',\n",
       "                                                                                                   'passthrough',\n",
       "                                                                                                   ['installed_nameplate_capacity',\n",
       "                                                                                                    'heat_rate',\n",
       "                                                                                                    'capacity_factor',\n",
       "                                                                                                    'year_first_unit_in_service'])])),\n",
       "                                                                 ('scaler',\n",
       "                                                                  StandardScaler())]))])),\n",
       "                ('todense', DenseTransformer()),\n",
       "                ('model', PCA(n_components=0.85))])"
      ]
     },
     "execution_count": 38,
     "metadata": {},
     "output_type": "execute_result"
    }
   ],
   "source": [
    "from sklearn.decomposition import PCA\n",
    "from mlxtend.preprocessing import DenseTransformer\n",
    "pipePcaN = Pipeline([\n",
    "    ('preprocessor', preprocessor ),\n",
    "    ('todense', DenseTransformer() ),\n",
    "    ('model', PCA( n_components=0.85 ) )\n",
    "    ])\n",
    "pipePcaN.fit( df )"
   ]
  },
  {
   "cell_type": "code",
   "execution_count": 39,
   "id": "09916ae7-eefb-45a7-aeba-24f5e5f71ec4",
   "metadata": {},
   "outputs": [
    {
     "data": {
      "text/plain": [
       "4"
      ]
     },
     "execution_count": 39,
     "metadata": {},
     "output_type": "execute_result"
    }
   ],
   "source": [
    "pipePcaN[ 'model' ].n_components_"
   ]
  },
  {
   "cell_type": "code",
   "execution_count": 40,
   "id": "85841da6-e681-4df5-a6c3-1ac553a49313",
   "metadata": {},
   "outputs": [
    {
     "data": {
      "text/html": [
       "<style>#sk-container-id-5 {color: black;background-color: white;}#sk-container-id-5 pre{padding: 0;}#sk-container-id-5 div.sk-toggleable {background-color: white;}#sk-container-id-5 label.sk-toggleable__label {cursor: pointer;display: block;width: 100%;margin-bottom: 0;padding: 0.3em;box-sizing: border-box;text-align: center;}#sk-container-id-5 label.sk-toggleable__label-arrow:before {content: \"▸\";float: left;margin-right: 0.25em;color: #696969;}#sk-container-id-5 label.sk-toggleable__label-arrow:hover:before {color: black;}#sk-container-id-5 div.sk-estimator:hover label.sk-toggleable__label-arrow:before {color: black;}#sk-container-id-5 div.sk-toggleable__content {max-height: 0;max-width: 0;overflow: hidden;text-align: left;background-color: #f0f8ff;}#sk-container-id-5 div.sk-toggleable__content pre {margin: 0.2em;color: black;border-radius: 0.25em;background-color: #f0f8ff;}#sk-container-id-5 input.sk-toggleable__control:checked~div.sk-toggleable__content {max-height: 200px;max-width: 100%;overflow: auto;}#sk-container-id-5 input.sk-toggleable__control:checked~label.sk-toggleable__label-arrow:before {content: \"▾\";}#sk-container-id-5 div.sk-estimator input.sk-toggleable__control:checked~label.sk-toggleable__label {background-color: #d4ebff;}#sk-container-id-5 div.sk-label input.sk-toggleable__control:checked~label.sk-toggleable__label {background-color: #d4ebff;}#sk-container-id-5 input.sk-hidden--visually {border: 0;clip: rect(1px 1px 1px 1px);clip: rect(1px, 1px, 1px, 1px);height: 1px;margin: -1px;overflow: hidden;padding: 0;position: absolute;width: 1px;}#sk-container-id-5 div.sk-estimator {font-family: monospace;background-color: #f0f8ff;border: 1px dotted black;border-radius: 0.25em;box-sizing: border-box;margin-bottom: 0.5em;}#sk-container-id-5 div.sk-estimator:hover {background-color: #d4ebff;}#sk-container-id-5 div.sk-parallel-item::after {content: \"\";width: 100%;border-bottom: 1px solid gray;flex-grow: 1;}#sk-container-id-5 div.sk-label:hover label.sk-toggleable__label {background-color: #d4ebff;}#sk-container-id-5 div.sk-serial::before {content: \"\";position: absolute;border-left: 1px solid gray;box-sizing: border-box;top: 0;bottom: 0;left: 50%;z-index: 0;}#sk-container-id-5 div.sk-serial {display: flex;flex-direction: column;align-items: center;background-color: white;padding-right: 0.2em;padding-left: 0.2em;position: relative;}#sk-container-id-5 div.sk-item {position: relative;z-index: 1;}#sk-container-id-5 div.sk-parallel {display: flex;align-items: stretch;justify-content: center;background-color: white;position: relative;}#sk-container-id-5 div.sk-item::before, #sk-container-id-5 div.sk-parallel-item::before {content: \"\";position: absolute;border-left: 1px solid gray;box-sizing: border-box;top: 0;bottom: 0;left: 50%;z-index: -1;}#sk-container-id-5 div.sk-parallel-item {display: flex;flex-direction: column;z-index: 1;position: relative;background-color: white;}#sk-container-id-5 div.sk-parallel-item:first-child::after {align-self: flex-end;width: 50%;}#sk-container-id-5 div.sk-parallel-item:last-child::after {align-self: flex-start;width: 50%;}#sk-container-id-5 div.sk-parallel-item:only-child::after {width: 0;}#sk-container-id-5 div.sk-dashed-wrapped {border: 1px dashed gray;margin: 0 0.4em 0.5em 0.4em;box-sizing: border-box;padding-bottom: 0.4em;background-color: white;}#sk-container-id-5 div.sk-label label {font-family: monospace;font-weight: bold;display: inline-block;line-height: 1.2em;}#sk-container-id-5 div.sk-label-container {text-align: center;}#sk-container-id-5 div.sk-container {/* jupyter's `normalize.less` sets `[hidden] { display: none; }` but bootstrap.min.css set `[hidden] { display: none !important; }` so we also need the `!important` here to be able to override the default hidden behavior on the sphinx rendered scikit-learn.org. See: https://github.com/scikit-learn/scikit-learn/issues/21755 */display: inline-block !important;position: relative;}#sk-container-id-5 div.sk-text-repr-fallback {display: none;}</style><div id=\"sk-container-id-5\" class=\"sk-top-container\"><div class=\"sk-text-repr-fallback\"><pre>StandardScaler()</pre><b>In a Jupyter environment, please rerun this cell to show the HTML representation or trust the notebook. <br />On GitHub, the HTML representation is unable to render, please try loading this page with nbviewer.org.</b></div><div class=\"sk-container\" hidden><div class=\"sk-item\"><div class=\"sk-estimator sk-toggleable\"><input class=\"sk-toggleable__control sk-hidden--visually\" id=\"sk-estimator-id-46\" type=\"checkbox\" checked><label for=\"sk-estimator-id-46\" class=\"sk-toggleable__label sk-toggleable__label-arrow\">StandardScaler</label><div class=\"sk-toggleable__content\"><pre>StandardScaler()</pre></div></div></div></div></div>"
      ],
      "text/plain": [
       "StandardScaler()"
      ]
     },
     "execution_count": 40,
     "metadata": {},
     "output_type": "execute_result"
    },
    {
     "data": {
      "text/plain": [
       "array([4.5])"
      ]
     },
     "execution_count": 40,
     "metadata": {},
     "output_type": "execute_result"
    },
    {
     "data": {
      "text/plain": [
       "array([[-1.52752523],\n",
       "       [-1.09108945],\n",
       "       [-0.65465367],\n",
       "       [-0.21821789],\n",
       "       [ 0.21821789],\n",
       "       [ 0.65465367],\n",
       "       [ 1.09108945],\n",
       "       [ 1.52752523]])"
      ]
     },
     "execution_count": 40,
     "metadata": {},
     "output_type": "execute_result"
    }
   ],
   "source": [
    "tempNumbers = pandas.DataFrame( [1,2,3,4,5,6,7,8] )\n",
    "scaler = StandardScaler()\n",
    "scaler.fit( tempNumbers )\n",
    "scaler.mean_\n",
    "scaler.transform( tempNumbers )"
   ]
  },
  {
   "cell_type": "code",
   "execution_count": 41,
   "id": "c15e1772-bd12-4add-836d-2d32a95e0c2a",
   "metadata": {},
   "outputs": [
    {
     "data": {
      "text/plain": [
       "(1292, 12)"
      ]
     },
     "execution_count": 41,
     "metadata": {},
     "output_type": "execute_result"
    }
   ],
   "source": [
    "prepDf = pandas.DataFrame( pipePcaN[ :-1 ].fit_transform( df ) )\n",
    "prepDf.shape"
   ]
  },
  {
   "cell_type": "code",
   "execution_count": 42,
   "id": "e5192bfe-3dc7-4898-bf4b-89bda9cf52bb",
   "metadata": {},
   "outputs": [
    {
     "data": {
      "text/html": [
       "<div>\n",
       "<style scoped>\n",
       "    .dataframe tbody tr th:only-of-type {\n",
       "        vertical-align: middle;\n",
       "    }\n",
       "\n",
       "    .dataframe tbody tr th {\n",
       "        vertical-align: top;\n",
       "    }\n",
       "\n",
       "    .dataframe thead th {\n",
       "        text-align: right;\n",
       "    }\n",
       "</style>\n",
       "<table border=\"1\" class=\"dataframe\">\n",
       "  <thead>\n",
       "    <tr style=\"text-align: right;\">\n",
       "      <th></th>\n",
       "      <th>0</th>\n",
       "      <th>1</th>\n",
       "      <th>2</th>\n",
       "      <th>3</th>\n",
       "      <th>4</th>\n",
       "      <th>5</th>\n",
       "      <th>6</th>\n",
       "      <th>7</th>\n",
       "      <th>8</th>\n",
       "      <th>9</th>\n",
       "      <th>10</th>\n",
       "      <th>11</th>\n",
       "    </tr>\n",
       "  </thead>\n",
       "  <tbody>\n",
       "    <tr>\n",
       "      <th>0</th>\n",
       "      <td>1.0</td>\n",
       "      <td>1.0</td>\n",
       "      <td>0.0</td>\n",
       "      <td>0.0</td>\n",
       "      <td>0.0</td>\n",
       "      <td>1.0</td>\n",
       "      <td>0.0</td>\n",
       "      <td>0.0</td>\n",
       "      <td>-0.759671</td>\n",
       "      <td>0.375479</td>\n",
       "      <td>-1.050325</td>\n",
       "      <td>0.089425</td>\n",
       "    </tr>\n",
       "    <tr>\n",
       "      <th>1</th>\n",
       "      <td>0.0</td>\n",
       "      <td>0.0</td>\n",
       "      <td>0.0</td>\n",
       "      <td>0.0</td>\n",
       "      <td>0.0</td>\n",
       "      <td>1.0</td>\n",
       "      <td>0.0</td>\n",
       "      <td>0.0</td>\n",
       "      <td>-0.112545</td>\n",
       "      <td>-0.842092</td>\n",
       "      <td>0.683959</td>\n",
       "      <td>0.767521</td>\n",
       "    </tr>\n",
       "    <tr>\n",
       "      <th>2</th>\n",
       "      <td>1.0</td>\n",
       "      <td>0.0</td>\n",
       "      <td>0.0</td>\n",
       "      <td>1.0</td>\n",
       "      <td>1.0</td>\n",
       "      <td>0.0</td>\n",
       "      <td>0.0</td>\n",
       "      <td>0.0</td>\n",
       "      <td>-0.108305</td>\n",
       "      <td>0.036716</td>\n",
       "      <td>1.017771</td>\n",
       "      <td>-0.588671</td>\n",
       "    </tr>\n",
       "    <tr>\n",
       "      <th>3</th>\n",
       "      <td>1.0</td>\n",
       "      <td>1.0</td>\n",
       "      <td>0.0</td>\n",
       "      <td>0.0</td>\n",
       "      <td>0.0</td>\n",
       "      <td>1.0</td>\n",
       "      <td>0.0</td>\n",
       "      <td>0.0</td>\n",
       "      <td>-0.733702</td>\n",
       "      <td>0.713228</td>\n",
       "      <td>-1.052458</td>\n",
       "      <td>0.037264</td>\n",
       "    </tr>\n",
       "    <tr>\n",
       "      <th>4</th>\n",
       "      <td>0.0</td>\n",
       "      <td>1.0</td>\n",
       "      <td>0.0</td>\n",
       "      <td>0.0</td>\n",
       "      <td>0.0</td>\n",
       "      <td>1.0</td>\n",
       "      <td>0.0</td>\n",
       "      <td>0.0</td>\n",
       "      <td>-0.896941</td>\n",
       "      <td>0.775259</td>\n",
       "      <td>-1.097069</td>\n",
       "      <td>0.871843</td>\n",
       "    </tr>\n",
       "    <tr>\n",
       "      <th>...</th>\n",
       "      <td>...</td>\n",
       "      <td>...</td>\n",
       "      <td>...</td>\n",
       "      <td>...</td>\n",
       "      <td>...</td>\n",
       "      <td>...</td>\n",
       "      <td>...</td>\n",
       "      <td>...</td>\n",
       "      <td>...</td>\n",
       "      <td>...</td>\n",
       "      <td>...</td>\n",
       "      <td>...</td>\n",
       "    </tr>\n",
       "    <tr>\n",
       "      <th>1287</th>\n",
       "      <td>1.0</td>\n",
       "      <td>1.0</td>\n",
       "      <td>0.0</td>\n",
       "      <td>0.0</td>\n",
       "      <td>0.0</td>\n",
       "      <td>1.0</td>\n",
       "      <td>0.0</td>\n",
       "      <td>0.0</td>\n",
       "      <td>-0.447680</td>\n",
       "      <td>0.458523</td>\n",
       "      <td>-0.885983</td>\n",
       "      <td>-1.005961</td>\n",
       "    </tr>\n",
       "    <tr>\n",
       "      <th>1288</th>\n",
       "      <td>0.0</td>\n",
       "      <td>0.0</td>\n",
       "      <td>0.0</td>\n",
       "      <td>0.0</td>\n",
       "      <td>0.0</td>\n",
       "      <td>1.0</td>\n",
       "      <td>0.0</td>\n",
       "      <td>0.0</td>\n",
       "      <td>-0.934747</td>\n",
       "      <td>-0.295464</td>\n",
       "      <td>-0.635701</td>\n",
       "      <td>0.193747</td>\n",
       "    </tr>\n",
       "    <tr>\n",
       "      <th>1289</th>\n",
       "      <td>1.0</td>\n",
       "      <td>0.0</td>\n",
       "      <td>0.0</td>\n",
       "      <td>0.0</td>\n",
       "      <td>0.0</td>\n",
       "      <td>1.0</td>\n",
       "      <td>0.0</td>\n",
       "      <td>0.0</td>\n",
       "      <td>-0.001599</td>\n",
       "      <td>-0.915263</td>\n",
       "      <td>1.659208</td>\n",
       "      <td>0.611037</td>\n",
       "    </tr>\n",
       "    <tr>\n",
       "      <th>1290</th>\n",
       "      <td>1.0</td>\n",
       "      <td>1.0</td>\n",
       "      <td>0.0</td>\n",
       "      <td>0.0</td>\n",
       "      <td>0.0</td>\n",
       "      <td>1.0</td>\n",
       "      <td>0.0</td>\n",
       "      <td>0.0</td>\n",
       "      <td>-0.378603</td>\n",
       "      <td>0.163309</td>\n",
       "      <td>-0.710108</td>\n",
       "      <td>0.558876</td>\n",
       "    </tr>\n",
       "    <tr>\n",
       "      <th>1291</th>\n",
       "      <td>0.0</td>\n",
       "      <td>1.0</td>\n",
       "      <td>0.0</td>\n",
       "      <td>0.0</td>\n",
       "      <td>0.0</td>\n",
       "      <td>1.0</td>\n",
       "      <td>0.0</td>\n",
       "      <td>0.0</td>\n",
       "      <td>0.008825</td>\n",
       "      <td>0.326360</td>\n",
       "      <td>-0.638233</td>\n",
       "      <td>0.611037</td>\n",
       "    </tr>\n",
       "  </tbody>\n",
       "</table>\n",
       "<p>1292 rows × 12 columns</p>\n",
       "</div>"
      ],
      "text/plain": [
       "       0    1    2    3    4    5    6    7         8         9         10  \\\n",
       "0     1.0  1.0  0.0  0.0  0.0  1.0  0.0  0.0 -0.759671  0.375479 -1.050325   \n",
       "1     0.0  0.0  0.0  0.0  0.0  1.0  0.0  0.0 -0.112545 -0.842092  0.683959   \n",
       "2     1.0  0.0  0.0  1.0  1.0  0.0  0.0  0.0 -0.108305  0.036716  1.017771   \n",
       "3     1.0  1.0  0.0  0.0  0.0  1.0  0.0  0.0 -0.733702  0.713228 -1.052458   \n",
       "4     0.0  1.0  0.0  0.0  0.0  1.0  0.0  0.0 -0.896941  0.775259 -1.097069   \n",
       "...   ...  ...  ...  ...  ...  ...  ...  ...       ...       ...       ...   \n",
       "1287  1.0  1.0  0.0  0.0  0.0  1.0  0.0  0.0 -0.447680  0.458523 -0.885983   \n",
       "1288  0.0  0.0  0.0  0.0  0.0  1.0  0.0  0.0 -0.934747 -0.295464 -0.635701   \n",
       "1289  1.0  0.0  0.0  0.0  0.0  1.0  0.0  0.0 -0.001599 -0.915263  1.659208   \n",
       "1290  1.0  1.0  0.0  0.0  0.0  1.0  0.0  0.0 -0.378603  0.163309 -0.710108   \n",
       "1291  0.0  1.0  0.0  0.0  0.0  1.0  0.0  0.0  0.008825  0.326360 -0.638233   \n",
       "\n",
       "            11  \n",
       "0     0.089425  \n",
       "1     0.767521  \n",
       "2    -0.588671  \n",
       "3     0.037264  \n",
       "4     0.871843  \n",
       "...        ...  \n",
       "1287 -1.005961  \n",
       "1288  0.193747  \n",
       "1289  0.611037  \n",
       "1290  0.558876  \n",
       "1291  0.611037  \n",
       "\n",
       "[1292 rows x 12 columns]"
      ]
     },
     "execution_count": 42,
     "metadata": {},
     "output_type": "execute_result"
    }
   ],
   "source": [
    "prepDf"
   ]
  },
  {
   "cell_type": "code",
   "execution_count": 43,
   "id": "b8ddcbad-29b9-4f7b-a160-44de2ff1deb7",
   "metadata": {},
   "outputs": [
    {
     "data": {
      "image/png": "[encoded data removed]",
      "text/plain": [
       "<Figure size 640x480 with 1 Axes>"
      ]
     },
     "metadata": {},
     "output_type": "display_data"
    }
   ],
   "source": [
    "import numpy\n",
    "dfComponents = pandas.DataFrame( numpy.transpose( pipePcaN[ 'model' ].components_ ) )\n",
    "dfComponents.index = pipePcaN['preprocessor'].get_feature_names_out()\n",
    "plot = dfComponents.plot.barh()\n",
    "## this shows how each component is calculated"
   ]
  },
  {
   "cell_type": "code",
   "execution_count": null,
   "id": "3e002f47-fc63-4f7f-bba8-c5985754fca3",
   "metadata": {},
   "outputs": [],
   "source": []
  }
 ],
 "metadata": {
  "kernelspec": {
   "display_name": "Python 3 (ipykernel)",
   "language": "python",
   "name": "python3"
  },
  "language_info": {
   "codemirror_mode": {
    "name": "ipython",
    "version": 3
   },
   "file_extension": ".py",
   "mimetype": "text/x-python",
   "name": "python",
   "nbconvert_exporter": "python",
   "pygments_lexer": "ipython3",
   "version": "3.9.13"
  }
 },
 "nbformat": 4,
 "nbformat_minor": 5
}
